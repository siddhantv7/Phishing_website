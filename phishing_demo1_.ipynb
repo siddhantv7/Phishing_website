{
 "cells": [
  {
   "cell_type": "markdown",
   "metadata": {
    "id": "QYFaNT4QH9Vj",
    "papermill": {
     "duration": 0.035205,
     "end_time": "2020-11-21T06:33:13.502886",
     "exception": false,
     "start_time": "2020-11-21T06:33:13.467681",
     "status": "completed"
    },
    "tags": []
   },
   "source": [
    "### * **What is a phishing attack?**\n",
    "* Phishing is a type of social engineering attack often used to steal user data, including login credentials and credit card numbers. It occurs when an attacker, masquerading as a trusted entity, dupes a victim into opening an email, instant message, or text message. "
   ]
  },
  {
   "cell_type": "markdown",
   "metadata": {
    "id": "ZFR6LnlHH9Vo",
    "papermill": {
     "duration": 0.034848,
     "end_time": "2020-11-21T06:33:13.713729",
     "exception": false,
     "start_time": "2020-11-21T06:33:13.678881",
     "status": "completed"
    },
    "tags": []
   },
   "source": [
    "##### * Importing some useful libraries"
   ]
  },
  {
   "cell_type": "code",
   "execution_count": 59,
   "metadata": {
    "_cell_guid": "79c7e3d0-c299-4dcb-8224-4455121ee9b0",
    "_uuid": "d629ff2d2480ee46fbb7e2d37f6b5fab8052498a",
    "execution": {
     "iopub.execute_input": "2020-11-21T06:33:22.826583Z",
     "iopub.status.busy": "2020-11-21T06:33:22.822508Z",
     "iopub.status.idle": "2020-11-21T06:33:26.095195Z",
     "shell.execute_reply": "2020-11-21T06:33:26.094508Z"
    },
    "id": "746wp8FoH9Vp",
    "papermill": {
     "duration": 3.322309,
     "end_time": "2020-11-21T06:33:26.095328",
     "exception": false,
     "start_time": "2020-11-21T06:33:22.773019",
     "status": "completed"
    },
    "tags": []
   },
   "outputs": [],
   "source": [
    "import pandas as pd # use for data manipulation and analysis\n",
    "import numpy as np # use for multi-dimensional array and matrix\n",
    "\n",
    "import seaborn as sns # use for high-level interface for drawing attractive and informative statistical graphics \n",
    "import matplotlib.pyplot as plt # It provides an object-oriented API for embedding plots into applications\n",
    "%matplotlib inline \n",
    "# It sets the backend of matplotlib to the 'inline' backend:\n",
    "\n",
    "import tkinter as tk\n",
    "\n",
    "from sklearn.model_selection import train_test_split # spliting the data between feature and target\n",
    "from sklearn.metrics import classification_report # gives whole report about metrics (e.g, recall,precision,f1_score,c_m)\n",
    "from sklearn.metrics import confusion_matrix # gives info about actual and predict\n",
    "from nltk.tokenize import RegexpTokenizer # regexp tokenizers use to split words from text  \n",
    "from nltk.stem.snowball import SnowballStemmer # stemmes words\n",
    "from sklearn.feature_extraction.text import CountVectorizer # create sparse matrix of words using regexptokenizes  \n",
    "from sklearn.pipeline import make_pipeline # use for combining all prerocessors techniuqes and algos\n",
    "\n",
    "from PIL import Image # getting images in notebook\n",
    "from wordcloud import WordCloud, STOPWORDS, ImageColorGenerator# creates words colud\n",
    "\n",
    "\n",
    "from selenium import webdriver # use for automation chrome \n",
    "import networkx as nx # for the creation, manipulation, and study of the structure, dynamics, and functions of complex networks.\n",
    "\n",
    "import pickle# use to dump model \n",
    "\n",
    "import warnings # ignores pink warnings \n",
    "warnings.filterwarnings('ignore')"
   ]
  },
  {
   "cell_type": "code",
   "execution_count": 60,
   "metadata": {
    "execution": {
     "iopub.execute_input": "2020-11-21T06:33:26.189221Z",
     "iopub.status.busy": "2020-11-21T06:33:26.188531Z",
     "iopub.status.idle": "2020-11-21T06:33:27.457683Z",
     "shell.execute_reply": "2020-11-21T06:33:27.457015Z"
    },
    "id": "bLN42K20H9Vq",
    "papermill": {
     "duration": 1.322082,
     "end_time": "2020-11-21T06:33:27.457799",
     "exception": false,
     "start_time": "2020-11-21T06:33:26.135717",
     "status": "completed"
    },
    "tags": []
   },
   "outputs": [],
   "source": [
    "# Loading the dataset\n",
    "phish_data = pd.read_csv('phishing_site_urls.csv')"
   ]
  },
  {
   "cell_type": "code",
   "execution_count": 61,
   "metadata": {
    "colab": {
     "base_uri": "https://localhost:8080/",
     "height": 206
    },
    "execution": {
     "iopub.execute_input": "2020-11-21T06:33:27.549500Z",
     "iopub.status.busy": "2020-11-21T06:33:27.548831Z",
     "iopub.status.idle": "2020-11-21T06:33:27.556421Z",
     "shell.execute_reply": "2020-11-21T06:33:27.555899Z"
    },
    "id": "cyRpDmRNH9Vq",
    "outputId": "fcd7a8fb-c833-4a43-d882-80fd0e679df1",
    "papermill": {
     "duration": 0.05903,
     "end_time": "2020-11-21T06:33:27.556546",
     "exception": false,
     "start_time": "2020-11-21T06:33:27.497516",
     "status": "completed"
    },
    "tags": []
   },
   "outputs": [
    {
     "data": {
      "text/html": [
       "<div>\n",
       "<style scoped>\n",
       "    .dataframe tbody tr th:only-of-type {\n",
       "        vertical-align: middle;\n",
       "    }\n",
       "\n",
       "    .dataframe tbody tr th {\n",
       "        vertical-align: top;\n",
       "    }\n",
       "\n",
       "    .dataframe thead th {\n",
       "        text-align: right;\n",
       "    }\n",
       "</style>\n",
       "<table border=\"1\" class=\"dataframe\">\n",
       "  <thead>\n",
       "    <tr style=\"text-align: right;\">\n",
       "      <th></th>\n",
       "      <th>URL</th>\n",
       "      <th>Label</th>\n",
       "    </tr>\n",
       "  </thead>\n",
       "  <tbody>\n",
       "    <tr>\n",
       "      <th>0</th>\n",
       "      <td>https://www.microsoft.com</td>\n",
       "      <td>good</td>\n",
       "    </tr>\n",
       "    <tr>\n",
       "      <th>1</th>\n",
       "      <td>https://www.google.com</td>\n",
       "      <td>good</td>\n",
       "    </tr>\n",
       "    <tr>\n",
       "      <th>2</th>\n",
       "      <td>nobell.it/70ffb52d079109dca5664cce6f317373782/...</td>\n",
       "      <td>bad</td>\n",
       "    </tr>\n",
       "    <tr>\n",
       "      <th>3</th>\n",
       "      <td>www.dghjdgf.com/paypal.co.uk/cycgi-bin/webscrc...</td>\n",
       "      <td>bad</td>\n",
       "    </tr>\n",
       "    <tr>\n",
       "      <th>4</th>\n",
       "      <td>serviciosbys.com/paypal.cgi.bin.get-into.herf....</td>\n",
       "      <td>bad</td>\n",
       "    </tr>\n",
       "  </tbody>\n",
       "</table>\n",
       "</div>"
      ],
      "text/plain": [
       "                                                 URL Label\n",
       "0                          https://www.microsoft.com  good\n",
       "1                             https://www.google.com  good\n",
       "2  nobell.it/70ffb52d079109dca5664cce6f317373782/...   bad\n",
       "3  www.dghjdgf.com/paypal.co.uk/cycgi-bin/webscrc...   bad\n",
       "4  serviciosbys.com/paypal.cgi.bin.get-into.herf....   bad"
      ]
     },
     "execution_count": 61,
     "metadata": {},
     "output_type": "execute_result"
    }
   ],
   "source": [
    "phish_data.head()"
   ]
  },
  {
   "cell_type": "code",
   "execution_count": 62,
   "metadata": {
    "colab": {
     "base_uri": "https://localhost:8080/",
     "height": 206
    },
    "execution": {
     "iopub.execute_input": "2020-11-21T06:33:27.646131Z",
     "iopub.status.busy": "2020-11-21T06:33:27.645097Z",
     "iopub.status.idle": "2020-11-21T06:33:27.649188Z",
     "shell.execute_reply": "2020-11-21T06:33:27.648573Z"
    },
    "id": "m6DZOqz2H9Vr",
    "outputId": "1353b195-5178-4675-e740-9b1ebdf44fa7",
    "papermill": {
     "duration": 0.052496,
     "end_time": "2020-11-21T06:33:27.649297",
     "exception": false,
     "start_time": "2020-11-21T06:33:27.596801",
     "status": "completed"
    },
    "tags": []
   },
   "outputs": [
    {
     "data": {
      "text/html": [
       "<div>\n",
       "<style scoped>\n",
       "    .dataframe tbody tr th:only-of-type {\n",
       "        vertical-align: middle;\n",
       "    }\n",
       "\n",
       "    .dataframe tbody tr th {\n",
       "        vertical-align: top;\n",
       "    }\n",
       "\n",
       "    .dataframe thead th {\n",
       "        text-align: right;\n",
       "    }\n",
       "</style>\n",
       "<table border=\"1\" class=\"dataframe\">\n",
       "  <thead>\n",
       "    <tr style=\"text-align: right;\">\n",
       "      <th></th>\n",
       "      <th>URL</th>\n",
       "      <th>Label</th>\n",
       "    </tr>\n",
       "  </thead>\n",
       "  <tbody>\n",
       "    <tr>\n",
       "      <th>549344</th>\n",
       "      <td>apple-checker.org/</td>\n",
       "      <td>bad</td>\n",
       "    </tr>\n",
       "    <tr>\n",
       "      <th>549345</th>\n",
       "      <td>apple-iclods.org/</td>\n",
       "      <td>bad</td>\n",
       "    </tr>\n",
       "    <tr>\n",
       "      <th>549346</th>\n",
       "      <td>apple-uptoday.org/</td>\n",
       "      <td>bad</td>\n",
       "    </tr>\n",
       "    <tr>\n",
       "      <th>549347</th>\n",
       "      <td>apple-search.info</td>\n",
       "      <td>bad</td>\n",
       "    </tr>\n",
       "    <tr>\n",
       "      <th>549348</th>\n",
       "      <td>https://www.google.com/intl/en-GB/gmail/about/</td>\n",
       "      <td>good</td>\n",
       "    </tr>\n",
       "  </tbody>\n",
       "</table>\n",
       "</div>"
      ],
      "text/plain": [
       "                                                   URL Label\n",
       "549344                              apple-checker.org/   bad\n",
       "549345                               apple-iclods.org/   bad\n",
       "549346                              apple-uptoday.org/   bad\n",
       "549347                               apple-search.info   bad\n",
       "549348  https://www.google.com/intl/en-GB/gmail/about/  good"
      ]
     },
     "execution_count": 62,
     "metadata": {},
     "output_type": "execute_result"
    }
   ],
   "source": [
    "phish_data.tail()"
   ]
  },
  {
   "cell_type": "code",
   "execution_count": 63,
   "metadata": {
    "colab": {
     "base_uri": "https://localhost:8080/"
    },
    "execution": {
     "iopub.execute_input": "2020-11-21T06:33:27.778145Z",
     "iopub.status.busy": "2020-11-21T06:33:27.777477Z",
     "iopub.status.idle": "2020-11-21T06:33:27.792647Z",
     "shell.execute_reply": "2020-11-21T06:33:27.791908Z"
    },
    "id": "2K2ahryEH9Vr",
    "outputId": "d053bfb0-4e7e-45c2-de45-57d1ec4b007d",
    "papermill": {
     "duration": 0.103111,
     "end_time": "2020-11-21T06:33:27.792805",
     "exception": false,
     "start_time": "2020-11-21T06:33:27.689694",
     "status": "completed"
    },
    "tags": []
   },
   "outputs": [
    {
     "name": "stdout",
     "output_type": "stream",
     "text": [
      "<class 'pandas.core.frame.DataFrame'>\n",
      "RangeIndex: 549349 entries, 0 to 549348\n",
      "Data columns (total 2 columns):\n",
      " #   Column  Non-Null Count   Dtype \n",
      "---  ------  --------------   ----- \n",
      " 0   URL     549349 non-null  object\n",
      " 1   Label   549349 non-null  object\n",
      "dtypes: object(2)\n",
      "memory usage: 8.4+ MB\n"
     ]
    }
   ],
   "source": [
    "phish_data.info()"
   ]
  },
  {
   "cell_type": "code",
   "execution_count": 64,
   "metadata": {
    "colab": {
     "base_uri": "https://localhost:8080/"
    },
    "execution": {
     "iopub.execute_input": "2020-11-21T06:33:28.007694Z",
     "iopub.status.busy": "2020-11-21T06:33:28.006670Z",
     "iopub.status.idle": "2020-11-21T06:33:28.014459Z",
     "shell.execute_reply": "2020-11-21T06:33:28.013951Z"
    },
    "id": "T3YGB9mLH9Vr",
    "outputId": "f2493b2b-de8c-4e50-d03a-a0679471bbbb",
    "papermill": {
     "duration": 0.096185,
     "end_time": "2020-11-21T06:33:28.014580",
     "exception": false,
     "start_time": "2020-11-21T06:33:27.918395",
     "status": "completed"
    },
    "tags": []
   },
   "outputs": [
    {
     "data": {
      "text/plain": [
       "URL      0\n",
       "Label    0\n",
       "dtype: int64"
      ]
     },
     "execution_count": 64,
     "metadata": {},
     "output_type": "execute_result"
    }
   ],
   "source": [
    "phish_data.isnull().sum() # there is no missing values"
   ]
  },
  {
   "cell_type": "markdown",
   "metadata": {
    "id": "7hcMcX1mH9Vr",
    "papermill": {
     "duration": 0.040864,
     "end_time": "2020-11-21T06:33:28.096464",
     "exception": false,
     "start_time": "2020-11-21T06:33:28.055600",
     "status": "completed"
    },
    "tags": []
   },
   "source": [
    "* **Since it is classification problems so let's see the classes are balanced or imbalances**"
   ]
  },
  {
   "cell_type": "code",
   "execution_count": 65,
   "metadata": {
    "execution": {
     "iopub.execute_input": "2020-11-21T06:33:28.230828Z",
     "iopub.status.busy": "2020-11-21T06:33:28.209936Z",
     "iopub.status.idle": "2020-11-21T06:33:28.236247Z",
     "shell.execute_reply": "2020-11-21T06:33:28.235702Z"
    },
    "id": "_7iB5CrtH9Vs",
    "papermill": {
     "duration": 0.09886,
     "end_time": "2020-11-21T06:33:28.236366",
     "exception": false,
     "start_time": "2020-11-21T06:33:28.137506",
     "status": "completed"
    },
    "tags": []
   },
   "outputs": [
    {
     "data": {
      "text/html": [
       "<div>\n",
       "<style scoped>\n",
       "    .dataframe tbody tr th:only-of-type {\n",
       "        vertical-align: middle;\n",
       "    }\n",
       "\n",
       "    .dataframe tbody tr th {\n",
       "        vertical-align: top;\n",
       "    }\n",
       "\n",
       "    .dataframe thead th {\n",
       "        text-align: right;\n",
       "    }\n",
       "</style>\n",
       "<table border=\"1\" class=\"dataframe\">\n",
       "  <thead>\n",
       "    <tr style=\"text-align: right;\">\n",
       "      <th></th>\n",
       "      <th>Label</th>\n",
       "    </tr>\n",
       "  </thead>\n",
       "  <tbody>\n",
       "    <tr>\n",
       "      <th>good</th>\n",
       "      <td>392927</td>\n",
       "    </tr>\n",
       "    <tr>\n",
       "      <th>bad</th>\n",
       "      <td>156422</td>\n",
       "    </tr>\n",
       "  </tbody>\n",
       "</table>\n",
       "</div>"
      ],
      "text/plain": [
       "       Label\n",
       "good  392927\n",
       "bad   156422"
      ]
     },
     "execution_count": 65,
     "metadata": {},
     "output_type": "execute_result"
    }
   ],
   "source": [
    "#create a dataframe of classes counts\n",
    "label_counts = pd.DataFrame(phish_data.Label.value_counts())\n",
    "label_counts.head()"
   ]
  },
  {
   "cell_type": "code",
   "execution_count": 66,
   "metadata": {
    "colab": {
     "base_uri": "https://localhost:8080/",
     "height": 542
    },
    "execution": {
     "iopub.execute_input": "2020-11-21T06:33:28.327834Z",
     "iopub.status.busy": "2020-11-21T06:33:28.327192Z",
     "iopub.status.idle": "2020-11-21T06:33:29.519656Z",
     "shell.execute_reply": "2020-11-21T06:33:29.520140Z"
    },
    "id": "UCivO1PgH9Vs",
    "outputId": "a3b8f4ae-d286-4e07-b464-6426e7e09071",
    "papermill": {
     "duration": 1.242396,
     "end_time": "2020-11-21T06:33:29.520281",
     "exception": false,
     "start_time": "2020-11-21T06:33:28.277885",
     "status": "completed"
    },
    "tags": []
   },
   "outputs": [
    {
     "data": {
      "application/vnd.plotly.v1+json": {
       "config": {
        "plotlyServerURL": "https://plot.ly"
       },
       "data": [
        {
         "alignmentgroup": "True",
         "hovertemplate": "index=%{x}<br>Label=%{y}<extra></extra>",
         "legendgroup": "",
         "marker": {
          "color": "#636efa",
          "pattern": {
           "shape": ""
          }
         },
         "name": "",
         "offsetgroup": "",
         "orientation": "v",
         "showlegend": false,
         "textposition": "auto",
         "type": "bar",
         "x": [
          "good",
          "bad"
         ],
         "xaxis": "x",
         "y": [
          392927,
          156422
         ],
         "yaxis": "y"
        }
       ],
       "layout": {
        "barmode": "relative",
        "legend": {
         "tracegroupgap": 0
        },
        "margin": {
         "t": 60
        },
        "template": {
         "data": {
          "bar": [
           {
            "error_x": {
             "color": "#2a3f5f"
            },
            "error_y": {
             "color": "#2a3f5f"
            },
            "marker": {
             "line": {
              "color": "#E5ECF6",
              "width": 0.5
             },
             "pattern": {
              "fillmode": "overlay",
              "size": 10,
              "solidity": 0.2
             }
            },
            "type": "bar"
           }
          ],
          "barpolar": [
           {
            "marker": {
             "line": {
              "color": "#E5ECF6",
              "width": 0.5
             },
             "pattern": {
              "fillmode": "overlay",
              "size": 10,
              "solidity": 0.2
             }
            },
            "type": "barpolar"
           }
          ],
          "carpet": [
           {
            "aaxis": {
             "endlinecolor": "#2a3f5f",
             "gridcolor": "white",
             "linecolor": "white",
             "minorgridcolor": "white",
             "startlinecolor": "#2a3f5f"
            },
            "baxis": {
             "endlinecolor": "#2a3f5f",
             "gridcolor": "white",
             "linecolor": "white",
             "minorgridcolor": "white",
             "startlinecolor": "#2a3f5f"
            },
            "type": "carpet"
           }
          ],
          "choropleth": [
           {
            "colorbar": {
             "outlinewidth": 0,
             "ticks": ""
            },
            "type": "choropleth"
           }
          ],
          "contour": [
           {
            "colorbar": {
             "outlinewidth": 0,
             "ticks": ""
            },
            "colorscale": [
             [
              0,
              "#0d0887"
             ],
             [
              0.1111111111111111,
              "#46039f"
             ],
             [
              0.2222222222222222,
              "#7201a8"
             ],
             [
              0.3333333333333333,
              "#9c179e"
             ],
             [
              0.4444444444444444,
              "#bd3786"
             ],
             [
              0.5555555555555556,
              "#d8576b"
             ],
             [
              0.6666666666666666,
              "#ed7953"
             ],
             [
              0.7777777777777778,
              "#fb9f3a"
             ],
             [
              0.8888888888888888,
              "#fdca26"
             ],
             [
              1,
              "#f0f921"
             ]
            ],
            "type": "contour"
           }
          ],
          "contourcarpet": [
           {
            "colorbar": {
             "outlinewidth": 0,
             "ticks": ""
            },
            "type": "contourcarpet"
           }
          ],
          "heatmap": [
           {
            "colorbar": {
             "outlinewidth": 0,
             "ticks": ""
            },
            "colorscale": [
             [
              0,
              "#0d0887"
             ],
             [
              0.1111111111111111,
              "#46039f"
             ],
             [
              0.2222222222222222,
              "#7201a8"
             ],
             [
              0.3333333333333333,
              "#9c179e"
             ],
             [
              0.4444444444444444,
              "#bd3786"
             ],
             [
              0.5555555555555556,
              "#d8576b"
             ],
             [
              0.6666666666666666,
              "#ed7953"
             ],
             [
              0.7777777777777778,
              "#fb9f3a"
             ],
             [
              0.8888888888888888,
              "#fdca26"
             ],
             [
              1,
              "#f0f921"
             ]
            ],
            "type": "heatmap"
           }
          ],
          "heatmapgl": [
           {
            "colorbar": {
             "outlinewidth": 0,
             "ticks": ""
            },
            "colorscale": [
             [
              0,
              "#0d0887"
             ],
             [
              0.1111111111111111,
              "#46039f"
             ],
             [
              0.2222222222222222,
              "#7201a8"
             ],
             [
              0.3333333333333333,
              "#9c179e"
             ],
             [
              0.4444444444444444,
              "#bd3786"
             ],
             [
              0.5555555555555556,
              "#d8576b"
             ],
             [
              0.6666666666666666,
              "#ed7953"
             ],
             [
              0.7777777777777778,
              "#fb9f3a"
             ],
             [
              0.8888888888888888,
              "#fdca26"
             ],
             [
              1,
              "#f0f921"
             ]
            ],
            "type": "heatmapgl"
           }
          ],
          "histogram": [
           {
            "marker": {
             "pattern": {
              "fillmode": "overlay",
              "size": 10,
              "solidity": 0.2
             }
            },
            "type": "histogram"
           }
          ],
          "histogram2d": [
           {
            "colorbar": {
             "outlinewidth": 0,
             "ticks": ""
            },
            "colorscale": [
             [
              0,
              "#0d0887"
             ],
             [
              0.1111111111111111,
              "#46039f"
             ],
             [
              0.2222222222222222,
              "#7201a8"
             ],
             [
              0.3333333333333333,
              "#9c179e"
             ],
             [
              0.4444444444444444,
              "#bd3786"
             ],
             [
              0.5555555555555556,
              "#d8576b"
             ],
             [
              0.6666666666666666,
              "#ed7953"
             ],
             [
              0.7777777777777778,
              "#fb9f3a"
             ],
             [
              0.8888888888888888,
              "#fdca26"
             ],
             [
              1,
              "#f0f921"
             ]
            ],
            "type": "histogram2d"
           }
          ],
          "histogram2dcontour": [
           {
            "colorbar": {
             "outlinewidth": 0,
             "ticks": ""
            },
            "colorscale": [
             [
              0,
              "#0d0887"
             ],
             [
              0.1111111111111111,
              "#46039f"
             ],
             [
              0.2222222222222222,
              "#7201a8"
             ],
             [
              0.3333333333333333,
              "#9c179e"
             ],
             [
              0.4444444444444444,
              "#bd3786"
             ],
             [
              0.5555555555555556,
              "#d8576b"
             ],
             [
              0.6666666666666666,
              "#ed7953"
             ],
             [
              0.7777777777777778,
              "#fb9f3a"
             ],
             [
              0.8888888888888888,
              "#fdca26"
             ],
             [
              1,
              "#f0f921"
             ]
            ],
            "type": "histogram2dcontour"
           }
          ],
          "mesh3d": [
           {
            "colorbar": {
             "outlinewidth": 0,
             "ticks": ""
            },
            "type": "mesh3d"
           }
          ],
          "parcoords": [
           {
            "line": {
             "colorbar": {
              "outlinewidth": 0,
              "ticks": ""
             }
            },
            "type": "parcoords"
           }
          ],
          "pie": [
           {
            "automargin": true,
            "type": "pie"
           }
          ],
          "scatter": [
           {
            "fillpattern": {
             "fillmode": "overlay",
             "size": 10,
             "solidity": 0.2
            },
            "type": "scatter"
           }
          ],
          "scatter3d": [
           {
            "line": {
             "colorbar": {
              "outlinewidth": 0,
              "ticks": ""
             }
            },
            "marker": {
             "colorbar": {
              "outlinewidth": 0,
              "ticks": ""
             }
            },
            "type": "scatter3d"
           }
          ],
          "scattercarpet": [
           {
            "marker": {
             "colorbar": {
              "outlinewidth": 0,
              "ticks": ""
             }
            },
            "type": "scattercarpet"
           }
          ],
          "scattergeo": [
           {
            "marker": {
             "colorbar": {
              "outlinewidth": 0,
              "ticks": ""
             }
            },
            "type": "scattergeo"
           }
          ],
          "scattergl": [
           {
            "marker": {
             "colorbar": {
              "outlinewidth": 0,
              "ticks": ""
             }
            },
            "type": "scattergl"
           }
          ],
          "scattermapbox": [
           {
            "marker": {
             "colorbar": {
              "outlinewidth": 0,
              "ticks": ""
             }
            },
            "type": "scattermapbox"
           }
          ],
          "scatterpolar": [
           {
            "marker": {
             "colorbar": {
              "outlinewidth": 0,
              "ticks": ""
             }
            },
            "type": "scatterpolar"
           }
          ],
          "scatterpolargl": [
           {
            "marker": {
             "colorbar": {
              "outlinewidth": 0,
              "ticks": ""
             }
            },
            "type": "scatterpolargl"
           }
          ],
          "scatterternary": [
           {
            "marker": {
             "colorbar": {
              "outlinewidth": 0,
              "ticks": ""
             }
            },
            "type": "scatterternary"
           }
          ],
          "surface": [
           {
            "colorbar": {
             "outlinewidth": 0,
             "ticks": ""
            },
            "colorscale": [
             [
              0,
              "#0d0887"
             ],
             [
              0.1111111111111111,
              "#46039f"
             ],
             [
              0.2222222222222222,
              "#7201a8"
             ],
             [
              0.3333333333333333,
              "#9c179e"
             ],
             [
              0.4444444444444444,
              "#bd3786"
             ],
             [
              0.5555555555555556,
              "#d8576b"
             ],
             [
              0.6666666666666666,
              "#ed7953"
             ],
             [
              0.7777777777777778,
              "#fb9f3a"
             ],
             [
              0.8888888888888888,
              "#fdca26"
             ],
             [
              1,
              "#f0f921"
             ]
            ],
            "type": "surface"
           }
          ],
          "table": [
           {
            "cells": {
             "fill": {
              "color": "#EBF0F8"
             },
             "line": {
              "color": "white"
             }
            },
            "header": {
             "fill": {
              "color": "#C8D4E3"
             },
             "line": {
              "color": "white"
             }
            },
            "type": "table"
           }
          ]
         },
         "layout": {
          "annotationdefaults": {
           "arrowcolor": "#2a3f5f",
           "arrowhead": 0,
           "arrowwidth": 1
          },
          "autotypenumbers": "strict",
          "coloraxis": {
           "colorbar": {
            "outlinewidth": 0,
            "ticks": ""
           }
          },
          "colorscale": {
           "diverging": [
            [
             0,
             "#8e0152"
            ],
            [
             0.1,
             "#c51b7d"
            ],
            [
             0.2,
             "#de77ae"
            ],
            [
             0.3,
             "#f1b6da"
            ],
            [
             0.4,
             "#fde0ef"
            ],
            [
             0.5,
             "#f7f7f7"
            ],
            [
             0.6,
             "#e6f5d0"
            ],
            [
             0.7,
             "#b8e186"
            ],
            [
             0.8,
             "#7fbc41"
            ],
            [
             0.9,
             "#4d9221"
            ],
            [
             1,
             "#276419"
            ]
           ],
           "sequential": [
            [
             0,
             "#0d0887"
            ],
            [
             0.1111111111111111,
             "#46039f"
            ],
            [
             0.2222222222222222,
             "#7201a8"
            ],
            [
             0.3333333333333333,
             "#9c179e"
            ],
            [
             0.4444444444444444,
             "#bd3786"
            ],
            [
             0.5555555555555556,
             "#d8576b"
            ],
            [
             0.6666666666666666,
             "#ed7953"
            ],
            [
             0.7777777777777778,
             "#fb9f3a"
            ],
            [
             0.8888888888888888,
             "#fdca26"
            ],
            [
             1,
             "#f0f921"
            ]
           ],
           "sequentialminus": [
            [
             0,
             "#0d0887"
            ],
            [
             0.1111111111111111,
             "#46039f"
            ],
            [
             0.2222222222222222,
             "#7201a8"
            ],
            [
             0.3333333333333333,
             "#9c179e"
            ],
            [
             0.4444444444444444,
             "#bd3786"
            ],
            [
             0.5555555555555556,
             "#d8576b"
            ],
            [
             0.6666666666666666,
             "#ed7953"
            ],
            [
             0.7777777777777778,
             "#fb9f3a"
            ],
            [
             0.8888888888888888,
             "#fdca26"
            ],
            [
             1,
             "#f0f921"
            ]
           ]
          },
          "colorway": [
           "#636efa",
           "#EF553B",
           "#00cc96",
           "#ab63fa",
           "#FFA15A",
           "#19d3f3",
           "#FF6692",
           "#B6E880",
           "#FF97FF",
           "#FECB52"
          ],
          "font": {
           "color": "#2a3f5f"
          },
          "geo": {
           "bgcolor": "white",
           "lakecolor": "white",
           "landcolor": "#E5ECF6",
           "showlakes": true,
           "showland": true,
           "subunitcolor": "white"
          },
          "hoverlabel": {
           "align": "left"
          },
          "hovermode": "closest",
          "mapbox": {
           "style": "light"
          },
          "paper_bgcolor": "white",
          "plot_bgcolor": "#E5ECF6",
          "polar": {
           "angularaxis": {
            "gridcolor": "white",
            "linecolor": "white",
            "ticks": ""
           },
           "bgcolor": "#E5ECF6",
           "radialaxis": {
            "gridcolor": "white",
            "linecolor": "white",
            "ticks": ""
           }
          },
          "scene": {
           "xaxis": {
            "backgroundcolor": "#E5ECF6",
            "gridcolor": "white",
            "gridwidth": 2,
            "linecolor": "white",
            "showbackground": true,
            "ticks": "",
            "zerolinecolor": "white"
           },
           "yaxis": {
            "backgroundcolor": "#E5ECF6",
            "gridcolor": "white",
            "gridwidth": 2,
            "linecolor": "white",
            "showbackground": true,
            "ticks": "",
            "zerolinecolor": "white"
           },
           "zaxis": {
            "backgroundcolor": "#E5ECF6",
            "gridcolor": "white",
            "gridwidth": 2,
            "linecolor": "white",
            "showbackground": true,
            "ticks": "",
            "zerolinecolor": "white"
           }
          },
          "shapedefaults": {
           "line": {
            "color": "#2a3f5f"
           }
          },
          "ternary": {
           "aaxis": {
            "gridcolor": "white",
            "linecolor": "white",
            "ticks": ""
           },
           "baxis": {
            "gridcolor": "white",
            "linecolor": "white",
            "ticks": ""
           },
           "bgcolor": "#E5ECF6",
           "caxis": {
            "gridcolor": "white",
            "linecolor": "white",
            "ticks": ""
           }
          },
          "title": {
           "x": 0.05
          },
          "xaxis": {
           "automargin": true,
           "gridcolor": "white",
           "linecolor": "white",
           "ticks": "",
           "title": {
            "standoff": 15
           },
           "zerolinecolor": "white",
           "zerolinewidth": 2
          },
          "yaxis": {
           "automargin": true,
           "gridcolor": "white",
           "linecolor": "white",
           "ticks": "",
           "title": {
            "standoff": 15
           },
           "zerolinecolor": "white",
           "zerolinewidth": 2
          }
         }
        },
        "xaxis": {
         "anchor": "y",
         "domain": [
          0,
          1
         ],
         "title": {
          "text": "index"
         }
        },
        "yaxis": {
         "anchor": "x",
         "domain": [
          0,
          1
         ],
         "title": {
          "text": "Label"
         }
        }
       }
      },
      "text/html": [
       "<div>                            <div id=\"5ee05c79-a89c-4b1d-8915-eb48bb0b001c\" class=\"plotly-graph-div\" style=\"height:525px; width:100%;\"></div>            <script type=\"text/javascript\">                require([\"plotly\"], function(Plotly) {                    window.PLOTLYENV=window.PLOTLYENV || {};                                    if (document.getElementById(\"5ee05c79-a89c-4b1d-8915-eb48bb0b001c\")) {                    Plotly.newPlot(                        \"5ee05c79-a89c-4b1d-8915-eb48bb0b001c\",                        [{\"alignmentgroup\":\"True\",\"hovertemplate\":\"index=%{x}<br>Label=%{y}<extra></extra>\",\"legendgroup\":\"\",\"marker\":{\"color\":\"#636efa\",\"pattern\":{\"shape\":\"\"}},\"name\":\"\",\"offsetgroup\":\"\",\"orientation\":\"v\",\"showlegend\":false,\"textposition\":\"auto\",\"x\":[\"good\",\"bad\"],\"xaxis\":\"x\",\"y\":[392927,156422],\"yaxis\":\"y\",\"type\":\"bar\"}],                        {\"template\":{\"data\":{\"histogram2dcontour\":[{\"type\":\"histogram2dcontour\",\"colorbar\":{\"outlinewidth\":0,\"ticks\":\"\"},\"colorscale\":[[0.0,\"#0d0887\"],[0.1111111111111111,\"#46039f\"],[0.2222222222222222,\"#7201a8\"],[0.3333333333333333,\"#9c179e\"],[0.4444444444444444,\"#bd3786\"],[0.5555555555555556,\"#d8576b\"],[0.6666666666666666,\"#ed7953\"],[0.7777777777777778,\"#fb9f3a\"],[0.8888888888888888,\"#fdca26\"],[1.0,\"#f0f921\"]]}],\"choropleth\":[{\"type\":\"choropleth\",\"colorbar\":{\"outlinewidth\":0,\"ticks\":\"\"}}],\"histogram2d\":[{\"type\":\"histogram2d\",\"colorbar\":{\"outlinewidth\":0,\"ticks\":\"\"},\"colorscale\":[[0.0,\"#0d0887\"],[0.1111111111111111,\"#46039f\"],[0.2222222222222222,\"#7201a8\"],[0.3333333333333333,\"#9c179e\"],[0.4444444444444444,\"#bd3786\"],[0.5555555555555556,\"#d8576b\"],[0.6666666666666666,\"#ed7953\"],[0.7777777777777778,\"#fb9f3a\"],[0.8888888888888888,\"#fdca26\"],[1.0,\"#f0f921\"]]}],\"heatmap\":[{\"type\":\"heatmap\",\"colorbar\":{\"outlinewidth\":0,\"ticks\":\"\"},\"colorscale\":[[0.0,\"#0d0887\"],[0.1111111111111111,\"#46039f\"],[0.2222222222222222,\"#7201a8\"],[0.3333333333333333,\"#9c179e\"],[0.4444444444444444,\"#bd3786\"],[0.5555555555555556,\"#d8576b\"],[0.6666666666666666,\"#ed7953\"],[0.7777777777777778,\"#fb9f3a\"],[0.8888888888888888,\"#fdca26\"],[1.0,\"#f0f921\"]]}],\"heatmapgl\":[{\"type\":\"heatmapgl\",\"colorbar\":{\"outlinewidth\":0,\"ticks\":\"\"},\"colorscale\":[[0.0,\"#0d0887\"],[0.1111111111111111,\"#46039f\"],[0.2222222222222222,\"#7201a8\"],[0.3333333333333333,\"#9c179e\"],[0.4444444444444444,\"#bd3786\"],[0.5555555555555556,\"#d8576b\"],[0.6666666666666666,\"#ed7953\"],[0.7777777777777778,\"#fb9f3a\"],[0.8888888888888888,\"#fdca26\"],[1.0,\"#f0f921\"]]}],\"contourcarpet\":[{\"type\":\"contourcarpet\",\"colorbar\":{\"outlinewidth\":0,\"ticks\":\"\"}}],\"contour\":[{\"type\":\"contour\",\"colorbar\":{\"outlinewidth\":0,\"ticks\":\"\"},\"colorscale\":[[0.0,\"#0d0887\"],[0.1111111111111111,\"#46039f\"],[0.2222222222222222,\"#7201a8\"],[0.3333333333333333,\"#9c179e\"],[0.4444444444444444,\"#bd3786\"],[0.5555555555555556,\"#d8576b\"],[0.6666666666666666,\"#ed7953\"],[0.7777777777777778,\"#fb9f3a\"],[0.8888888888888888,\"#fdca26\"],[1.0,\"#f0f921\"]]}],\"surface\":[{\"type\":\"surface\",\"colorbar\":{\"outlinewidth\":0,\"ticks\":\"\"},\"colorscale\":[[0.0,\"#0d0887\"],[0.1111111111111111,\"#46039f\"],[0.2222222222222222,\"#7201a8\"],[0.3333333333333333,\"#9c179e\"],[0.4444444444444444,\"#bd3786\"],[0.5555555555555556,\"#d8576b\"],[0.6666666666666666,\"#ed7953\"],[0.7777777777777778,\"#fb9f3a\"],[0.8888888888888888,\"#fdca26\"],[1.0,\"#f0f921\"]]}],\"mesh3d\":[{\"type\":\"mesh3d\",\"colorbar\":{\"outlinewidth\":0,\"ticks\":\"\"}}],\"scatter\":[{\"fillpattern\":{\"fillmode\":\"overlay\",\"size\":10,\"solidity\":0.2},\"type\":\"scatter\"}],\"parcoords\":[{\"type\":\"parcoords\",\"line\":{\"colorbar\":{\"outlinewidth\":0,\"ticks\":\"\"}}}],\"scatterpolargl\":[{\"type\":\"scatterpolargl\",\"marker\":{\"colorbar\":{\"outlinewidth\":0,\"ticks\":\"\"}}}],\"bar\":[{\"error_x\":{\"color\":\"#2a3f5f\"},\"error_y\":{\"color\":\"#2a3f5f\"},\"marker\":{\"line\":{\"color\":\"#E5ECF6\",\"width\":0.5},\"pattern\":{\"fillmode\":\"overlay\",\"size\":10,\"solidity\":0.2}},\"type\":\"bar\"}],\"scattergeo\":[{\"type\":\"scattergeo\",\"marker\":{\"colorbar\":{\"outlinewidth\":0,\"ticks\":\"\"}}}],\"scatterpolar\":[{\"type\":\"scatterpolar\",\"marker\":{\"colorbar\":{\"outlinewidth\":0,\"ticks\":\"\"}}}],\"histogram\":[{\"marker\":{\"pattern\":{\"fillmode\":\"overlay\",\"size\":10,\"solidity\":0.2}},\"type\":\"histogram\"}],\"scattergl\":[{\"type\":\"scattergl\",\"marker\":{\"colorbar\":{\"outlinewidth\":0,\"ticks\":\"\"}}}],\"scatter3d\":[{\"type\":\"scatter3d\",\"line\":{\"colorbar\":{\"outlinewidth\":0,\"ticks\":\"\"}},\"marker\":{\"colorbar\":{\"outlinewidth\":0,\"ticks\":\"\"}}}],\"scattermapbox\":[{\"type\":\"scattermapbox\",\"marker\":{\"colorbar\":{\"outlinewidth\":0,\"ticks\":\"\"}}}],\"scatterternary\":[{\"type\":\"scatterternary\",\"marker\":{\"colorbar\":{\"outlinewidth\":0,\"ticks\":\"\"}}}],\"scattercarpet\":[{\"type\":\"scattercarpet\",\"marker\":{\"colorbar\":{\"outlinewidth\":0,\"ticks\":\"\"}}}],\"carpet\":[{\"aaxis\":{\"endlinecolor\":\"#2a3f5f\",\"gridcolor\":\"white\",\"linecolor\":\"white\",\"minorgridcolor\":\"white\",\"startlinecolor\":\"#2a3f5f\"},\"baxis\":{\"endlinecolor\":\"#2a3f5f\",\"gridcolor\":\"white\",\"linecolor\":\"white\",\"minorgridcolor\":\"white\",\"startlinecolor\":\"#2a3f5f\"},\"type\":\"carpet\"}],\"table\":[{\"cells\":{\"fill\":{\"color\":\"#EBF0F8\"},\"line\":{\"color\":\"white\"}},\"header\":{\"fill\":{\"color\":\"#C8D4E3\"},\"line\":{\"color\":\"white\"}},\"type\":\"table\"}],\"barpolar\":[{\"marker\":{\"line\":{\"color\":\"#E5ECF6\",\"width\":0.5},\"pattern\":{\"fillmode\":\"overlay\",\"size\":10,\"solidity\":0.2}},\"type\":\"barpolar\"}],\"pie\":[{\"automargin\":true,\"type\":\"pie\"}]},\"layout\":{\"autotypenumbers\":\"strict\",\"colorway\":[\"#636efa\",\"#EF553B\",\"#00cc96\",\"#ab63fa\",\"#FFA15A\",\"#19d3f3\",\"#FF6692\",\"#B6E880\",\"#FF97FF\",\"#FECB52\"],\"font\":{\"color\":\"#2a3f5f\"},\"hovermode\":\"closest\",\"hoverlabel\":{\"align\":\"left\"},\"paper_bgcolor\":\"white\",\"plot_bgcolor\":\"#E5ECF6\",\"polar\":{\"bgcolor\":\"#E5ECF6\",\"angularaxis\":{\"gridcolor\":\"white\",\"linecolor\":\"white\",\"ticks\":\"\"},\"radialaxis\":{\"gridcolor\":\"white\",\"linecolor\":\"white\",\"ticks\":\"\"}},\"ternary\":{\"bgcolor\":\"#E5ECF6\",\"aaxis\":{\"gridcolor\":\"white\",\"linecolor\":\"white\",\"ticks\":\"\"},\"baxis\":{\"gridcolor\":\"white\",\"linecolor\":\"white\",\"ticks\":\"\"},\"caxis\":{\"gridcolor\":\"white\",\"linecolor\":\"white\",\"ticks\":\"\"}},\"coloraxis\":{\"colorbar\":{\"outlinewidth\":0,\"ticks\":\"\"}},\"colorscale\":{\"sequential\":[[0.0,\"#0d0887\"],[0.1111111111111111,\"#46039f\"],[0.2222222222222222,\"#7201a8\"],[0.3333333333333333,\"#9c179e\"],[0.4444444444444444,\"#bd3786\"],[0.5555555555555556,\"#d8576b\"],[0.6666666666666666,\"#ed7953\"],[0.7777777777777778,\"#fb9f3a\"],[0.8888888888888888,\"#fdca26\"],[1.0,\"#f0f921\"]],\"sequentialminus\":[[0.0,\"#0d0887\"],[0.1111111111111111,\"#46039f\"],[0.2222222222222222,\"#7201a8\"],[0.3333333333333333,\"#9c179e\"],[0.4444444444444444,\"#bd3786\"],[0.5555555555555556,\"#d8576b\"],[0.6666666666666666,\"#ed7953\"],[0.7777777777777778,\"#fb9f3a\"],[0.8888888888888888,\"#fdca26\"],[1.0,\"#f0f921\"]],\"diverging\":[[0,\"#8e0152\"],[0.1,\"#c51b7d\"],[0.2,\"#de77ae\"],[0.3,\"#f1b6da\"],[0.4,\"#fde0ef\"],[0.5,\"#f7f7f7\"],[0.6,\"#e6f5d0\"],[0.7,\"#b8e186\"],[0.8,\"#7fbc41\"],[0.9,\"#4d9221\"],[1,\"#276419\"]]},\"xaxis\":{\"gridcolor\":\"white\",\"linecolor\":\"white\",\"ticks\":\"\",\"title\":{\"standoff\":15},\"zerolinecolor\":\"white\",\"automargin\":true,\"zerolinewidth\":2},\"yaxis\":{\"gridcolor\":\"white\",\"linecolor\":\"white\",\"ticks\":\"\",\"title\":{\"standoff\":15},\"zerolinecolor\":\"white\",\"automargin\":true,\"zerolinewidth\":2},\"scene\":{\"xaxis\":{\"backgroundcolor\":\"#E5ECF6\",\"gridcolor\":\"white\",\"linecolor\":\"white\",\"showbackground\":true,\"ticks\":\"\",\"zerolinecolor\":\"white\",\"gridwidth\":2},\"yaxis\":{\"backgroundcolor\":\"#E5ECF6\",\"gridcolor\":\"white\",\"linecolor\":\"white\",\"showbackground\":true,\"ticks\":\"\",\"zerolinecolor\":\"white\",\"gridwidth\":2},\"zaxis\":{\"backgroundcolor\":\"#E5ECF6\",\"gridcolor\":\"white\",\"linecolor\":\"white\",\"showbackground\":true,\"ticks\":\"\",\"zerolinecolor\":\"white\",\"gridwidth\":2}},\"shapedefaults\":{\"line\":{\"color\":\"#2a3f5f\"}},\"annotationdefaults\":{\"arrowcolor\":\"#2a3f5f\",\"arrowhead\":0,\"arrowwidth\":1},\"geo\":{\"bgcolor\":\"white\",\"landcolor\":\"#E5ECF6\",\"subunitcolor\":\"white\",\"showland\":true,\"showlakes\":true,\"lakecolor\":\"white\"},\"title\":{\"x\":0.05},\"mapbox\":{\"style\":\"light\"}}},\"xaxis\":{\"anchor\":\"y\",\"domain\":[0.0,1.0],\"title\":{\"text\":\"index\"}},\"yaxis\":{\"anchor\":\"x\",\"domain\":[0.0,1.0],\"title\":{\"text\":\"Label\"}},\"legend\":{\"tracegroupgap\":0},\"margin\":{\"t\":60},\"barmode\":\"relative\"},                        {\"responsive\": true}                    ).then(function(){\n",
       "                            \n",
       "var gd = document.getElementById('5ee05c79-a89c-4b1d-8915-eb48bb0b001c');\n",
       "var x = new MutationObserver(function (mutations, observer) {{\n",
       "        var display = window.getComputedStyle(gd).display;\n",
       "        if (!display || display === 'none') {{\n",
       "            console.log([gd, 'removed!']);\n",
       "            Plotly.purge(gd);\n",
       "            observer.disconnect();\n",
       "        }}\n",
       "}});\n",
       "\n",
       "// Listen for the removal of the full notebook cells\n",
       "var notebookContainer = gd.closest('#notebook-container');\n",
       "if (notebookContainer) {{\n",
       "    x.observe(notebookContainer, {childList: true});\n",
       "}}\n",
       "\n",
       "// Listen for the clearing of the current output cell\n",
       "var outputEl = gd.closest('.output');\n",
       "if (outputEl) {{\n",
       "    x.observe(outputEl, {childList: true});\n",
       "}}\n",
       "\n",
       "                        })                };                });            </script>        </div>"
      ]
     },
     "metadata": {},
     "output_type": "display_data"
    }
   ],
   "source": [
    "#visualizing target_col\n",
    "import plotly.express as px\n",
    "fig = px.bar(label_counts, x=label_counts.index, y=label_counts.Label)\n",
    "fig.show()"
   ]
  },
  {
   "cell_type": "markdown",
   "metadata": {
    "id": "_pKoOJUjH9Vs",
    "papermill": {
     "duration": 0.042117,
     "end_time": "2020-11-21T06:33:29.605356",
     "exception": false,
     "start_time": "2020-11-21T06:33:29.563239",
     "status": "completed"
    },
    "tags": []
   },
   "source": [
    "### Preprocessing\n",
    "* **Now that we have the data, we have to vectorize our URLs. I used CountVectorizer and gather words using tokenizer, since there are words in urls that are more important than other words e.g ‘virus’, ‘.exe’ ,’.dat’ etc. Lets convert the URLs into a vector form.**"
   ]
  },
  {
   "cell_type": "markdown",
   "metadata": {
    "id": "--vE8miwH9Vs",
    "papermill": {
     "duration": 0.04213,
     "end_time": "2020-11-21T06:33:29.689790",
     "exception": false,
     "start_time": "2020-11-21T06:33:29.647660",
     "status": "completed"
    },
    "tags": []
   },
   "source": [
    "#### RegexpTokenizer\n",
    "* A tokenizer that splits a string using a regular expression, which matches either the tokens or the separators between tokens."
   ]
  },
  {
   "cell_type": "code",
   "execution_count": 67,
   "metadata": {
    "execution": {
     "iopub.execute_input": "2020-11-21T06:33:29.779021Z",
     "iopub.status.busy": "2020-11-21T06:33:29.778438Z",
     "iopub.status.idle": "2020-11-21T06:33:29.780689Z",
     "shell.execute_reply": "2020-11-21T06:33:29.781176Z"
    },
    "id": "Hovd55isH9Vs",
    "papermill": {
     "duration": 0.049343,
     "end_time": "2020-11-21T06:33:29.781310",
     "exception": false,
     "start_time": "2020-11-21T06:33:29.731967",
     "status": "completed"
    },
    "tags": []
   },
   "outputs": [],
   "source": [
    "tokenizer = RegexpTokenizer(r'[A-Za-z]+')#to getting alpha only"
   ]
  },
  {
   "cell_type": "code",
   "execution_count": 68,
   "metadata": {
    "colab": {
     "base_uri": "https://localhost:8080/",
     "height": 53
    },
    "execution": {
     "iopub.execute_input": "2020-11-21T06:33:29.871583Z",
     "iopub.status.busy": "2020-11-21T06:33:29.870831Z",
     "iopub.status.idle": "2020-11-21T06:33:29.901084Z",
     "shell.execute_reply": "2020-11-21T06:33:29.900569Z"
    },
    "id": "CNrJsEm6H9Vs",
    "outputId": "36e9fe6a-9f56-42c7-8c31-f955629666a0",
    "papermill": {
     "duration": 0.077399,
     "end_time": "2020-11-21T06:33:29.901203",
     "exception": false,
     "start_time": "2020-11-21T06:33:29.823804",
     "status": "completed"
    },
    "tags": []
   },
   "outputs": [
    {
     "data": {
      "text/plain": [
       "'https://www.microsoft.com'"
      ]
     },
     "execution_count": 68,
     "metadata": {},
     "output_type": "execute_result"
    }
   ],
   "source": [
    "phish_data.URL[0]"
   ]
  },
  {
   "cell_type": "code",
   "execution_count": 69,
   "metadata": {
    "colab": {
     "base_uri": "https://localhost:8080/"
    },
    "execution": {
     "iopub.execute_input": "2020-11-21T06:33:29.993634Z",
     "iopub.status.busy": "2020-11-21T06:33:29.992916Z",
     "iopub.status.idle": "2020-11-21T06:33:29.997160Z",
     "shell.execute_reply": "2020-11-21T06:33:29.996608Z"
    },
    "id": "M3v1EA0bH9Vt",
    "outputId": "734351b2-69ce-4991-95f9-cd07a5d0ee2b",
    "papermill": {
     "duration": 0.052947,
     "end_time": "2020-11-21T06:33:29.997268",
     "exception": false,
     "start_time": "2020-11-21T06:33:29.944321",
     "status": "completed"
    },
    "tags": []
   },
   "outputs": [
    {
     "data": {
      "text/plain": [
       "['https', 'www', 'microsoft', 'com']"
      ]
     },
     "execution_count": 69,
     "metadata": {},
     "output_type": "execute_result"
    }
   ],
   "source": [
    "# this will be pull letter which matches to expression\n",
    "tokenizer.tokenize(phish_data.URL[0]) # using first row"
   ]
  },
  {
   "cell_type": "code",
   "execution_count": 70,
   "metadata": {
    "colab": {
     "base_uri": "https://localhost:8080/"
    },
    "execution": {
     "iopub.execute_input": "2020-11-21T06:33:30.101908Z",
     "iopub.status.busy": "2020-11-21T06:33:30.089925Z",
     "iopub.status.idle": "2020-11-21T06:33:32.781682Z",
     "shell.execute_reply": "2020-11-21T06:33:32.780859Z"
    },
    "id": "yk1zprTfH9Vt",
    "outputId": "56f8c5d7-9eeb-4660-de5b-b404ad9b085b",
    "papermill": {
     "duration": 2.741209,
     "end_time": "2020-11-21T06:33:32.781862",
     "exception": false,
     "start_time": "2020-11-21T06:33:30.040653",
     "status": "completed"
    },
    "tags": []
   },
   "outputs": [
    {
     "name": "stdout",
     "output_type": "stream",
     "text": [
      "Getting words tokenized ...\n",
      "Time taken 2.569710799999484 sec\n"
     ]
    }
   ],
   "source": [
    "import time # calculate time \n",
    "print('Getting words tokenized ...')\n",
    "t0= time.perf_counter()\n",
    "phish_data['text_tokenized'] = phish_data.URL.map(lambda t: tokenizer.tokenize(t)) # doing with all rows\n",
    "t1 = time.perf_counter() - t0\n",
    "print('Time taken',t1 ,'sec')"
   ]
  },
  {
   "cell_type": "code",
   "execution_count": 71,
   "metadata": {
    "colab": {
     "base_uri": "https://localhost:8080/",
     "height": 206
    },
    "execution": {
     "iopub.execute_input": "2020-11-21T06:33:32.877029Z",
     "iopub.status.busy": "2020-11-21T06:33:32.876156Z",
     "iopub.status.idle": "2020-11-21T06:33:32.974397Z",
     "shell.execute_reply": "2020-11-21T06:33:32.973770Z"
    },
    "id": "PF2bt7qKH9Vt",
    "outputId": "eca830b1-52b1-4666-a5ac-6afce704a19c",
    "papermill": {
     "duration": 0.146688,
     "end_time": "2020-11-21T06:33:32.974510",
     "exception": false,
     "start_time": "2020-11-21T06:33:32.827822",
     "status": "completed"
    },
    "tags": []
   },
   "outputs": [
    {
     "data": {
      "text/html": [
       "<div>\n",
       "<style scoped>\n",
       "    .dataframe tbody tr th:only-of-type {\n",
       "        vertical-align: middle;\n",
       "    }\n",
       "\n",
       "    .dataframe tbody tr th {\n",
       "        vertical-align: top;\n",
       "    }\n",
       "\n",
       "    .dataframe thead th {\n",
       "        text-align: right;\n",
       "    }\n",
       "</style>\n",
       "<table border=\"1\" class=\"dataframe\">\n",
       "  <thead>\n",
       "    <tr style=\"text-align: right;\">\n",
       "      <th></th>\n",
       "      <th>URL</th>\n",
       "      <th>Label</th>\n",
       "      <th>text_tokenized</th>\n",
       "    </tr>\n",
       "  </thead>\n",
       "  <tbody>\n",
       "    <tr>\n",
       "      <th>438984</th>\n",
       "      <td>steamcar.net/neil-brady-browne-2.html</td>\n",
       "      <td>good</td>\n",
       "      <td>[steamcar, net, neil, brady, browne, html]</td>\n",
       "    </tr>\n",
       "    <tr>\n",
       "      <th>461650</th>\n",
       "      <td>warsawjrtigers.org/</td>\n",
       "      <td>good</td>\n",
       "      <td>[warsawjrtigers, org]</td>\n",
       "    </tr>\n",
       "    <tr>\n",
       "      <th>544555</th>\n",
       "      <td>91.142.90.61/information.cgi</td>\n",
       "      <td>bad</td>\n",
       "      <td>[information, cgi]</td>\n",
       "    </tr>\n",
       "    <tr>\n",
       "      <th>535673</th>\n",
       "      <td>jhomitevd2abj3fk.onion.to/</td>\n",
       "      <td>bad</td>\n",
       "      <td>[jhomitevd, abj, fk, onion, to]</td>\n",
       "    </tr>\n",
       "    <tr>\n",
       "      <th>271530</th>\n",
       "      <td>allaboutjazz.com/php/musician.php?id=5730</td>\n",
       "      <td>good</td>\n",
       "      <td>[allaboutjazz, com, php, musician, php, id]</td>\n",
       "    </tr>\n",
       "  </tbody>\n",
       "</table>\n",
       "</div>"
      ],
      "text/plain": [
       "                                              URL Label  \\\n",
       "438984      steamcar.net/neil-brady-browne-2.html  good   \n",
       "461650                        warsawjrtigers.org/  good   \n",
       "544555               91.142.90.61/information.cgi   bad   \n",
       "535673                 jhomitevd2abj3fk.onion.to/   bad   \n",
       "271530  allaboutjazz.com/php/musician.php?id=5730  good   \n",
       "\n",
       "                                     text_tokenized  \n",
       "438984   [steamcar, net, neil, brady, browne, html]  \n",
       "461650                        [warsawjrtigers, org]  \n",
       "544555                           [information, cgi]  \n",
       "535673              [jhomitevd, abj, fk, onion, to]  \n",
       "271530  [allaboutjazz, com, php, musician, php, id]  "
      ]
     },
     "execution_count": 71,
     "metadata": {},
     "output_type": "execute_result"
    }
   ],
   "source": [
    "phish_data.sample(5)"
   ]
  },
  {
   "cell_type": "markdown",
   "metadata": {
    "id": "rH8tF8SNH9Vt",
    "papermill": {
     "duration": 0.044502,
     "end_time": "2020-11-21T06:33:33.063920",
     "exception": false,
     "start_time": "2020-11-21T06:33:33.019418",
     "status": "completed"
    },
    "tags": []
   },
   "source": [
    "#### SnowballStemmer\n",
    "* Snowball is a small string processing language, gives root words"
   ]
  },
  {
   "cell_type": "code",
   "execution_count": 72,
   "metadata": {
    "execution": {
     "iopub.execute_input": "2020-11-21T06:33:33.158456Z",
     "iopub.status.busy": "2020-11-21T06:33:33.157681Z",
     "iopub.status.idle": "2020-11-21T06:33:33.160771Z",
     "shell.execute_reply": "2020-11-21T06:33:33.160154Z"
    },
    "id": "oeS1w9p5H9Vt",
    "papermill": {
     "duration": 0.052006,
     "end_time": "2020-11-21T06:33:33.160878",
     "exception": false,
     "start_time": "2020-11-21T06:33:33.108872",
     "status": "completed"
    },
    "tags": []
   },
   "outputs": [],
   "source": [
    "stemmer = SnowballStemmer(\"english\") # choose a language"
   ]
  },
  {
   "cell_type": "code",
   "execution_count": 73,
   "metadata": {
    "colab": {
     "base_uri": "https://localhost:8080/"
    },
    "execution": {
     "iopub.execute_input": "2020-11-21T06:33:33.257264Z",
     "iopub.status.busy": "2020-11-21T06:33:33.256534Z",
     "iopub.status.idle": "2020-11-21T06:34:27.440737Z",
     "shell.execute_reply": "2020-11-21T06:34:27.441505Z"
    },
    "id": "eg1QzzxtH9Vt",
    "outputId": "8604094b-4154-420f-c43f-7f06d1d517c1",
    "papermill": {
     "duration": 54.23567,
     "end_time": "2020-11-21T06:34:27.441709",
     "exception": false,
     "start_time": "2020-11-21T06:33:33.206039",
     "status": "completed"
    },
    "tags": []
   },
   "outputs": [
    {
     "name": "stdout",
     "output_type": "stream",
     "text": [
      "Getting words stemmed ...\n",
      "Time taken 33.895397199999934 sec\n"
     ]
    }
   ],
   "source": [
    "print('Getting words stemmed ...')\n",
    "t0= time.perf_counter()\n",
    "phish_data['text_stemmed'] = phish_data['text_tokenized'].map(lambda l: [stemmer.stem(word) for word in l])\n",
    "t1= time.perf_counter() - t0\n",
    "print('Time taken',t1 ,'sec')"
   ]
  },
  {
   "cell_type": "code",
   "execution_count": 74,
   "metadata": {
    "colab": {
     "base_uri": "https://localhost:8080/",
     "height": 250
    },
    "execution": {
     "iopub.execute_input": "2020-11-21T06:34:27.538309Z",
     "iopub.status.busy": "2020-11-21T06:34:27.537632Z",
     "iopub.status.idle": "2020-11-21T06:34:27.684341Z",
     "shell.execute_reply": "2020-11-21T06:34:27.683707Z"
    },
    "id": "14fMue3YH9Vt",
    "outputId": "e0089c5c-d882-451d-a677-4845dce67744",
    "papermill": {
     "duration": 0.196063,
     "end_time": "2020-11-21T06:34:27.684460",
     "exception": false,
     "start_time": "2020-11-21T06:34:27.488397",
     "status": "completed"
    },
    "tags": []
   },
   "outputs": [
    {
     "data": {
      "text/html": [
       "<div>\n",
       "<style scoped>\n",
       "    .dataframe tbody tr th:only-of-type {\n",
       "        vertical-align: middle;\n",
       "    }\n",
       "\n",
       "    .dataframe tbody tr th {\n",
       "        vertical-align: top;\n",
       "    }\n",
       "\n",
       "    .dataframe thead th {\n",
       "        text-align: right;\n",
       "    }\n",
       "</style>\n",
       "<table border=\"1\" class=\"dataframe\">\n",
       "  <thead>\n",
       "    <tr style=\"text-align: right;\">\n",
       "      <th></th>\n",
       "      <th>URL</th>\n",
       "      <th>Label</th>\n",
       "      <th>text_tokenized</th>\n",
       "      <th>text_stemmed</th>\n",
       "    </tr>\n",
       "  </thead>\n",
       "  <tbody>\n",
       "    <tr>\n",
       "      <th>369475</th>\n",
       "      <td>kudzu.com/m/Kevin-Storms-Allstate-Agent-21057916</td>\n",
       "      <td>good</td>\n",
       "      <td>[kudzu, com, m, Kevin, Storms, Allstate, Agent]</td>\n",
       "      <td>[kudzu, com, m, kevin, storm, allstat, agent]</td>\n",
       "    </tr>\n",
       "    <tr>\n",
       "      <th>217855</th>\n",
       "      <td>music.yahoo.com/cpc/</td>\n",
       "      <td>good</td>\n",
       "      <td>[music, yahoo, com, cpc]</td>\n",
       "      <td>[music, yahoo, com, cpc]</td>\n",
       "    </tr>\n",
       "    <tr>\n",
       "      <th>8101</th>\n",
       "      <td>fun-dive.com/gps/?check=1i60741388.html</td>\n",
       "      <td>bad</td>\n",
       "      <td>[fun, dive, com, gps, check, i, html]</td>\n",
       "      <td>[fun, dive, com, gps, check, i, html]</td>\n",
       "    </tr>\n",
       "    <tr>\n",
       "      <th>63550</th>\n",
       "      <td>en.wikipedia.org/wiki/Donald_Knuth</td>\n",
       "      <td>good</td>\n",
       "      <td>[en, wikipedia, org, wiki, Donald, Knuth]</td>\n",
       "      <td>[en, wikipedia, org, wiki, donald, knuth]</td>\n",
       "    </tr>\n",
       "    <tr>\n",
       "      <th>218128</th>\n",
       "      <td>music.yahoo.com/jon-faddis/</td>\n",
       "      <td>good</td>\n",
       "      <td>[music, yahoo, com, jon, faddis]</td>\n",
       "      <td>[music, yahoo, com, jon, faddi]</td>\n",
       "    </tr>\n",
       "  </tbody>\n",
       "</table>\n",
       "</div>"
      ],
      "text/plain": [
       "                                                     URL Label  \\\n",
       "369475  kudzu.com/m/Kevin-Storms-Allstate-Agent-21057916  good   \n",
       "217855                              music.yahoo.com/cpc/  good   \n",
       "8101             fun-dive.com/gps/?check=1i60741388.html   bad   \n",
       "63550                 en.wikipedia.org/wiki/Donald_Knuth  good   \n",
       "218128                       music.yahoo.com/jon-faddis/  good   \n",
       "\n",
       "                                         text_tokenized  \\\n",
       "369475  [kudzu, com, m, Kevin, Storms, Allstate, Agent]   \n",
       "217855                         [music, yahoo, com, cpc]   \n",
       "8101              [fun, dive, com, gps, check, i, html]   \n",
       "63550         [en, wikipedia, org, wiki, Donald, Knuth]   \n",
       "218128                 [music, yahoo, com, jon, faddis]   \n",
       "\n",
       "                                         text_stemmed  \n",
       "369475  [kudzu, com, m, kevin, storm, allstat, agent]  \n",
       "217855                       [music, yahoo, com, cpc]  \n",
       "8101            [fun, dive, com, gps, check, i, html]  \n",
       "63550       [en, wikipedia, org, wiki, donald, knuth]  \n",
       "218128                [music, yahoo, com, jon, faddi]  "
      ]
     },
     "execution_count": 74,
     "metadata": {},
     "output_type": "execute_result"
    }
   ],
   "source": [
    "phish_data.sample(5)"
   ]
  },
  {
   "cell_type": "code",
   "execution_count": 75,
   "metadata": {
    "colab": {
     "base_uri": "https://localhost:8080/"
    },
    "execution": {
     "iopub.execute_input": "2020-11-21T06:34:27.783316Z",
     "iopub.status.busy": "2020-11-21T06:34:27.782618Z",
     "iopub.status.idle": "2020-11-21T06:34:28.065078Z",
     "shell.execute_reply": "2020-11-21T06:34:28.064522Z"
    },
    "id": "YfpxXY2RH9Vu",
    "outputId": "71211edf-4ff1-435a-c758-c96a86fdee7d",
    "papermill": {
     "duration": 0.334363,
     "end_time": "2020-11-21T06:34:28.065203",
     "exception": false,
     "start_time": "2020-11-21T06:34:27.730840",
     "status": "completed"
    },
    "tags": []
   },
   "outputs": [
    {
     "name": "stdout",
     "output_type": "stream",
     "text": [
      "Getting joiningwords ...\n",
      "Time taken 0.21069690000058472 sec\n"
     ]
    }
   ],
   "source": [
    "print('Getting joiningwords ...')\n",
    "t0= time.perf_counter()\n",
    "phish_data['text_sent'] = phish_data['text_stemmed'].map(lambda l: ' '.join(l))\n",
    "t1= time.perf_counter() - t0\n",
    "print('Time taken',t1 ,'sec')"
   ]
  },
  {
   "cell_type": "code",
   "execution_count": 76,
   "metadata": {
    "colab": {
     "base_uri": "https://localhost:8080/",
     "height": 337
    },
    "execution": {
     "iopub.execute_input": "2020-11-21T06:34:28.165007Z",
     "iopub.status.busy": "2020-11-21T06:34:28.164410Z",
     "iopub.status.idle": "2020-11-21T06:34:28.327941Z",
     "shell.execute_reply": "2020-11-21T06:34:28.327406Z"
    },
    "id": "oKtm7RniH9Vu",
    "outputId": "06b9cef9-7d29-472f-9a60-186aeaf4d636",
    "papermill": {
     "duration": 0.215449,
     "end_time": "2020-11-21T06:34:28.328073",
     "exception": false,
     "start_time": "2020-11-21T06:34:28.112624",
     "status": "completed"
    },
    "tags": []
   },
   "outputs": [
    {
     "data": {
      "text/html": [
       "<div>\n",
       "<style scoped>\n",
       "    .dataframe tbody tr th:only-of-type {\n",
       "        vertical-align: middle;\n",
       "    }\n",
       "\n",
       "    .dataframe tbody tr th {\n",
       "        vertical-align: top;\n",
       "    }\n",
       "\n",
       "    .dataframe thead th {\n",
       "        text-align: right;\n",
       "    }\n",
       "</style>\n",
       "<table border=\"1\" class=\"dataframe\">\n",
       "  <thead>\n",
       "    <tr style=\"text-align: right;\">\n",
       "      <th></th>\n",
       "      <th>URL</th>\n",
       "      <th>Label</th>\n",
       "      <th>text_tokenized</th>\n",
       "      <th>text_stemmed</th>\n",
       "      <th>text_sent</th>\n",
       "    </tr>\n",
       "  </thead>\n",
       "  <tbody>\n",
       "    <tr>\n",
       "      <th>230379</th>\n",
       "      <td>plixid.com/2011/01/07/gabrielle-destroismaison...</td>\n",
       "      <td>good</td>\n",
       "      <td>[plixid, com, gabrielle, destroismaisons, etc,...</td>\n",
       "      <td>[plixid, com, gabriell, destroismaison, etc, mp]</td>\n",
       "      <td>plixid com gabriell destroismaison etc mp</td>\n",
       "    </tr>\n",
       "    <tr>\n",
       "      <th>67728</th>\n",
       "      <td>tools.ietf.org/html/rfc1816</td>\n",
       "      <td>good</td>\n",
       "      <td>[tools, ietf, org, html, rfc]</td>\n",
       "      <td>[tool, ietf, org, html, rfc]</td>\n",
       "      <td>tool ietf org html rfc</td>\n",
       "    </tr>\n",
       "    <tr>\n",
       "      <th>316332</th>\n",
       "      <td>docstoc.com/docs/88514817/Medical-Practitioner...</td>\n",
       "      <td>good</td>\n",
       "      <td>[docstoc, com, docs, Medical, Practitioners, P...</td>\n",
       "      <td>[docstoc, com, doc, medic, practition, public,...</td>\n",
       "      <td>docstoc com doc medic practition public of reg...</td>\n",
       "    </tr>\n",
       "    <tr>\n",
       "      <th>414556</th>\n",
       "      <td>pittsburghpanthers.com/sports/m-baskbl/spec-re...</td>\n",
       "      <td>good</td>\n",
       "      <td>[pittsburghpanthers, com, sports, m, baskbl, s...</td>\n",
       "      <td>[pittsburghpanth, com, sport, m, baskbl, spec,...</td>\n",
       "      <td>pittsburghpanth com sport m baskbl spec rel aa...</td>\n",
       "    </tr>\n",
       "    <tr>\n",
       "      <th>304260</th>\n",
       "      <td>chroniclesofchaos.com/reviews/albums/2-5078_br...</td>\n",
       "      <td>good</td>\n",
       "      <td>[chroniclesofchaos, com, reviews, albums, brai...</td>\n",
       "      <td>[chroniclesofchao, com, review, album, brain, ...</td>\n",
       "      <td>chroniclesofchao com review album brain drill ...</td>\n",
       "    </tr>\n",
       "  </tbody>\n",
       "</table>\n",
       "</div>"
      ],
      "text/plain": [
       "                                                      URL Label  \\\n",
       "230379  plixid.com/2011/01/07/gabrielle-destroismaison...  good   \n",
       "67728                         tools.ietf.org/html/rfc1816  good   \n",
       "316332  docstoc.com/docs/88514817/Medical-Practitioner...  good   \n",
       "414556  pittsburghpanthers.com/sports/m-baskbl/spec-re...  good   \n",
       "304260  chroniclesofchaos.com/reviews/albums/2-5078_br...  good   \n",
       "\n",
       "                                           text_tokenized  \\\n",
       "230379  [plixid, com, gabrielle, destroismaisons, etc,...   \n",
       "67728                       [tools, ietf, org, html, rfc]   \n",
       "316332  [docstoc, com, docs, Medical, Practitioners, P...   \n",
       "414556  [pittsburghpanthers, com, sports, m, baskbl, s...   \n",
       "304260  [chroniclesofchaos, com, reviews, albums, brai...   \n",
       "\n",
       "                                             text_stemmed  \\\n",
       "230379   [plixid, com, gabriell, destroismaison, etc, mp]   \n",
       "67728                        [tool, ietf, org, html, rfc]   \n",
       "316332  [docstoc, com, doc, medic, practition, public,...   \n",
       "414556  [pittsburghpanth, com, sport, m, baskbl, spec,...   \n",
       "304260  [chroniclesofchao, com, review, album, brain, ...   \n",
       "\n",
       "                                                text_sent  \n",
       "230379          plixid com gabriell destroismaison etc mp  \n",
       "67728                              tool ietf org html rfc  \n",
       "316332  docstoc com doc medic practition public of reg...  \n",
       "414556  pittsburghpanth com sport m baskbl spec rel aa...  \n",
       "304260  chroniclesofchao com review album brain drill ...  "
      ]
     },
     "execution_count": 76,
     "metadata": {},
     "output_type": "execute_result"
    }
   ],
   "source": [
    "phish_data.sample(5)"
   ]
  },
  {
   "cell_type": "markdown",
   "metadata": {
    "id": "8As-q2kyH9Vu",
    "papermill": {
     "duration": 0.047001,
     "end_time": "2020-11-21T06:34:28.422836",
     "exception": false,
     "start_time": "2020-11-21T06:34:28.375835",
     "status": "completed"
    },
    "tags": []
   },
   "source": [
    "### Visualization \n",
    "**1. Visualize some important keys using word cloud**"
   ]
  },
  {
   "cell_type": "code",
   "execution_count": 77,
   "metadata": {
    "execution": {
     "iopub.execute_input": "2020-11-21T06:34:28.555245Z",
     "iopub.status.busy": "2020-11-21T06:34:28.554541Z",
     "iopub.status.idle": "2020-11-21T06:34:28.638939Z",
     "shell.execute_reply": "2020-11-21T06:34:28.638435Z"
    },
    "id": "upgolpX1H9Vu",
    "papermill": {
     "duration": 0.168836,
     "end_time": "2020-11-21T06:34:28.639076",
     "exception": false,
     "start_time": "2020-11-21T06:34:28.470240",
     "status": "completed"
    },
    "tags": []
   },
   "outputs": [],
   "source": [
    "#sliceing classes\n",
    "bad_sites = phish_data[phish_data.Label == 'bad']\n",
    "good_sites = phish_data[phish_data.Label == 'good']"
   ]
  },
  {
   "cell_type": "code",
   "execution_count": 78,
   "metadata": {
    "colab": {
     "base_uri": "https://localhost:8080/",
     "height": 337
    },
    "execution": {
     "iopub.execute_input": "2020-11-21T06:34:28.750918Z",
     "iopub.status.busy": "2020-11-21T06:34:28.750259Z",
     "iopub.status.idle": "2020-11-21T06:34:28.754733Z",
     "shell.execute_reply": "2020-11-21T06:34:28.755222Z"
    },
    "id": "5eDI3d1yH9Vu",
    "outputId": "0d20fb34-8745-4c12-ad5d-7707cc1b4405",
    "papermill": {
     "duration": 0.0689,
     "end_time": "2020-11-21T06:34:28.755368",
     "exception": false,
     "start_time": "2020-11-21T06:34:28.686468",
     "status": "completed"
    },
    "tags": []
   },
   "outputs": [
    {
     "data": {
      "text/html": [
       "<div>\n",
       "<style scoped>\n",
       "    .dataframe tbody tr th:only-of-type {\n",
       "        vertical-align: middle;\n",
       "    }\n",
       "\n",
       "    .dataframe tbody tr th {\n",
       "        vertical-align: top;\n",
       "    }\n",
       "\n",
       "    .dataframe thead th {\n",
       "        text-align: right;\n",
       "    }\n",
       "</style>\n",
       "<table border=\"1\" class=\"dataframe\">\n",
       "  <thead>\n",
       "    <tr style=\"text-align: right;\">\n",
       "      <th></th>\n",
       "      <th>URL</th>\n",
       "      <th>Label</th>\n",
       "      <th>text_tokenized</th>\n",
       "      <th>text_stemmed</th>\n",
       "      <th>text_sent</th>\n",
       "    </tr>\n",
       "  </thead>\n",
       "  <tbody>\n",
       "    <tr>\n",
       "      <th>2</th>\n",
       "      <td>nobell.it/70ffb52d079109dca5664cce6f317373782/...</td>\n",
       "      <td>bad</td>\n",
       "      <td>[nobell, it, ffb, d, dca, cce, f, login, SkyPe...</td>\n",
       "      <td>[nobel, it, ffb, d, dca, cce, f, login, skype,...</td>\n",
       "      <td>nobel it ffb d dca cce f login skype com en cg...</td>\n",
       "    </tr>\n",
       "    <tr>\n",
       "      <th>3</th>\n",
       "      <td>www.dghjdgf.com/paypal.co.uk/cycgi-bin/webscrc...</td>\n",
       "      <td>bad</td>\n",
       "      <td>[www, dghjdgf, com, paypal, co, uk, cycgi, bin...</td>\n",
       "      <td>[www, dghjdgf, com, paypal, co, uk, cycgi, bin...</td>\n",
       "      <td>www dghjdgf com paypal co uk cycgi bin webscrc...</td>\n",
       "    </tr>\n",
       "    <tr>\n",
       "      <th>4</th>\n",
       "      <td>serviciosbys.com/paypal.cgi.bin.get-into.herf....</td>\n",
       "      <td>bad</td>\n",
       "      <td>[serviciosbys, com, paypal, cgi, bin, get, int...</td>\n",
       "      <td>[serviciosbi, com, paypal, cgi, bin, get, into...</td>\n",
       "      <td>serviciosbi com paypal cgi bin get into herf s...</td>\n",
       "    </tr>\n",
       "    <tr>\n",
       "      <th>5</th>\n",
       "      <td>mail.printakid.com/www.online.americanexpress....</td>\n",
       "      <td>bad</td>\n",
       "      <td>[mail, printakid, com, www, online, americanex...</td>\n",
       "      <td>[mail, printakid, com, www, onlin, americanexp...</td>\n",
       "      <td>mail printakid com www onlin americanexpress c...</td>\n",
       "    </tr>\n",
       "    <tr>\n",
       "      <th>6</th>\n",
       "      <td>thewhiskeydregs.com/wp-content/themes/widescre...</td>\n",
       "      <td>bad</td>\n",
       "      <td>[thewhiskeydregs, com, wp, content, themes, wi...</td>\n",
       "      <td>[thewhiskeydreg, com, wp, content, theme, wide...</td>\n",
       "      <td>thewhiskeydreg com wp content theme widescreen...</td>\n",
       "    </tr>\n",
       "  </tbody>\n",
       "</table>\n",
       "</div>"
      ],
      "text/plain": [
       "                                                 URL Label  \\\n",
       "2  nobell.it/70ffb52d079109dca5664cce6f317373782/...   bad   \n",
       "3  www.dghjdgf.com/paypal.co.uk/cycgi-bin/webscrc...   bad   \n",
       "4  serviciosbys.com/paypal.cgi.bin.get-into.herf....   bad   \n",
       "5  mail.printakid.com/www.online.americanexpress....   bad   \n",
       "6  thewhiskeydregs.com/wp-content/themes/widescre...   bad   \n",
       "\n",
       "                                      text_tokenized  \\\n",
       "2  [nobell, it, ffb, d, dca, cce, f, login, SkyPe...   \n",
       "3  [www, dghjdgf, com, paypal, co, uk, cycgi, bin...   \n",
       "4  [serviciosbys, com, paypal, cgi, bin, get, int...   \n",
       "5  [mail, printakid, com, www, online, americanex...   \n",
       "6  [thewhiskeydregs, com, wp, content, themes, wi...   \n",
       "\n",
       "                                        text_stemmed  \\\n",
       "2  [nobel, it, ffb, d, dca, cce, f, login, skype,...   \n",
       "3  [www, dghjdgf, com, paypal, co, uk, cycgi, bin...   \n",
       "4  [serviciosbi, com, paypal, cgi, bin, get, into...   \n",
       "5  [mail, printakid, com, www, onlin, americanexp...   \n",
       "6  [thewhiskeydreg, com, wp, content, theme, wide...   \n",
       "\n",
       "                                           text_sent  \n",
       "2  nobel it ffb d dca cce f login skype com en cg...  \n",
       "3  www dghjdgf com paypal co uk cycgi bin webscrc...  \n",
       "4  serviciosbi com paypal cgi bin get into herf s...  \n",
       "5  mail printakid com www onlin americanexpress c...  \n",
       "6  thewhiskeydreg com wp content theme widescreen...  "
      ]
     },
     "execution_count": 78,
     "metadata": {},
     "output_type": "execute_result"
    }
   ],
   "source": [
    "bad_sites.head()"
   ]
  },
  {
   "cell_type": "code",
   "execution_count": 79,
   "metadata": {
    "colab": {
     "base_uri": "https://localhost:8080/",
     "height": 319
    },
    "execution": {
     "iopub.execute_input": "2020-11-21T06:34:28.871609Z",
     "iopub.status.busy": "2020-11-21T06:34:28.870886Z",
     "iopub.status.idle": "2020-11-21T06:34:28.876530Z",
     "shell.execute_reply": "2020-11-21T06:34:28.876008Z"
    },
    "id": "6RpOjFmzH9Vu",
    "outputId": "e3be1e34-0efe-4835-b8a4-0e9b62a040f0",
    "papermill": {
     "duration": 0.07322,
     "end_time": "2020-11-21T06:34:28.876642",
     "exception": false,
     "start_time": "2020-11-21T06:34:28.803422",
     "status": "completed"
    },
    "tags": []
   },
   "outputs": [
    {
     "data": {
      "text/html": [
       "<div>\n",
       "<style scoped>\n",
       "    .dataframe tbody tr th:only-of-type {\n",
       "        vertical-align: middle;\n",
       "    }\n",
       "\n",
       "    .dataframe tbody tr th {\n",
       "        vertical-align: top;\n",
       "    }\n",
       "\n",
       "    .dataframe thead th {\n",
       "        text-align: right;\n",
       "    }\n",
       "</style>\n",
       "<table border=\"1\" class=\"dataframe\">\n",
       "  <thead>\n",
       "    <tr style=\"text-align: right;\">\n",
       "      <th></th>\n",
       "      <th>URL</th>\n",
       "      <th>Label</th>\n",
       "      <th>text_tokenized</th>\n",
       "      <th>text_stemmed</th>\n",
       "      <th>text_sent</th>\n",
       "    </tr>\n",
       "  </thead>\n",
       "  <tbody>\n",
       "    <tr>\n",
       "      <th>0</th>\n",
       "      <td>https://www.microsoft.com</td>\n",
       "      <td>good</td>\n",
       "      <td>[https, www, microsoft, com]</td>\n",
       "      <td>[https, www, microsoft, com]</td>\n",
       "      <td>https www microsoft com</td>\n",
       "    </tr>\n",
       "    <tr>\n",
       "      <th>1</th>\n",
       "      <td>https://www.google.com</td>\n",
       "      <td>good</td>\n",
       "      <td>[https, www, google, com]</td>\n",
       "      <td>[https, www, googl, com]</td>\n",
       "      <td>https www googl com</td>\n",
       "    </tr>\n",
       "    <tr>\n",
       "      <th>18233</th>\n",
       "      <td>esxcc.com/js/index.htm?us.battle.net/noghn/en/...</td>\n",
       "      <td>good</td>\n",
       "      <td>[esxcc, com, js, index, htm, us, battle, net, ...</td>\n",
       "      <td>[esxcc, com, js, index, htm, us, battl, net, n...</td>\n",
       "      <td>esxcc com js index htm us battl net noghn en r...</td>\n",
       "    </tr>\n",
       "    <tr>\n",
       "      <th>18234</th>\n",
       "      <td>www\u000eeira¯&amp;nvinip¿ncH¯wVö%ÆåyDaHðû/ÏyEùu\u0003Ë\\nÓ\u00176...</td>\n",
       "      <td>good</td>\n",
       "      <td>[www, eira, nvinip, ncH, wV, yDaH, yE, u, rT, ...</td>\n",
       "      <td>[www, eira, nvinip, nch, wv, ydah, ye, u, rt, ...</td>\n",
       "      <td>www eira nvinip nch wv ydah ye u rt u g m i xz...</td>\n",
       "    </tr>\n",
       "    <tr>\n",
       "      <th>18235</th>\n",
       "      <td>'www.institutocgr.coo/web/media/syqvem/dk-\u000fóij...</td>\n",
       "      <td>good</td>\n",
       "      <td>[www, institutocgr, coo, web, media, syqvem, d...</td>\n",
       "      <td>[www, institutocgr, coo, web, media, syqvem, d...</td>\n",
       "      <td>www institutocgr coo web media syqvem dk ij r ...</td>\n",
       "    </tr>\n",
       "  </tbody>\n",
       "</table>\n",
       "</div>"
      ],
      "text/plain": [
       "                                                     URL Label  \\\n",
       "0                              https://www.microsoft.com  good   \n",
       "1                                 https://www.google.com  good   \n",
       "18233  esxcc.com/js/index.htm?us.battle.net/noghn/en/...  good   \n",
       "18234  www\u000eeira¯&nvinip¿ncH¯wVö%ÆåyDaHðû/ÏyEùu\u0003Ë\\nÓ\u00176...  good   \n",
       "18235  'www.institutocgr.coo/web/media/syqvem/dk-\u000fóij...  good   \n",
       "\n",
       "                                          text_tokenized  \\\n",
       "0                           [https, www, microsoft, com]   \n",
       "1                              [https, www, google, com]   \n",
       "18233  [esxcc, com, js, index, htm, us, battle, net, ...   \n",
       "18234  [www, eira, nvinip, ncH, wV, yDaH, yE, u, rT, ...   \n",
       "18235  [www, institutocgr, coo, web, media, syqvem, d...   \n",
       "\n",
       "                                            text_stemmed  \\\n",
       "0                           [https, www, microsoft, com]   \n",
       "1                               [https, www, googl, com]   \n",
       "18233  [esxcc, com, js, index, htm, us, battl, net, n...   \n",
       "18234  [www, eira, nvinip, nch, wv, ydah, ye, u, rt, ...   \n",
       "18235  [www, institutocgr, coo, web, media, syqvem, d...   \n",
       "\n",
       "                                               text_sent  \n",
       "0                                https www microsoft com  \n",
       "1                                    https www googl com  \n",
       "18233  esxcc com js index htm us battl net noghn en r...  \n",
       "18234  www eira nvinip nch wv ydah ye u rt u g m i xz...  \n",
       "18235  www institutocgr coo web media syqvem dk ij r ...  "
      ]
     },
     "execution_count": 79,
     "metadata": {},
     "output_type": "execute_result"
    }
   ],
   "source": [
    "good_sites.head()"
   ]
  },
  {
   "cell_type": "markdown",
   "metadata": {
    "id": "NmM-VggtH9Vu",
    "papermill": {
     "duration": 0.048404,
     "end_time": "2020-11-21T06:34:28.974215",
     "exception": false,
     "start_time": "2020-11-21T06:34:28.925811",
     "status": "completed"
    },
    "tags": []
   },
   "source": [
    "* create a function to visualize the important keys from url "
   ]
  },
  {
   "cell_type": "code",
   "execution_count": 80,
   "metadata": {
    "execution": {
     "iopub.execute_input": "2020-11-21T06:34:29.082566Z",
     "iopub.status.busy": "2020-11-21T06:34:29.081703Z",
     "iopub.status.idle": "2020-11-21T06:34:29.084451Z",
     "shell.execute_reply": "2020-11-21T06:34:29.083843Z"
    },
    "id": "YXgEq0HMH9Vu",
    "papermill": {
     "duration": 0.061535,
     "end_time": "2020-11-21T06:34:29.084560",
     "exception": false,
     "start_time": "2020-11-21T06:34:29.023025",
     "status": "completed"
    },
    "tags": []
   },
   "outputs": [],
   "source": [
    "def plot_wordcloud(text, mask=None, max_words=400, max_font_size=120, figure_size=(24.0,16.0), \n",
    "                   title = None, title_size=40, image_color=False):\n",
    "    stopwords = set(STOPWORDS)\n",
    "    more_stopwords = {'com','http'}\n",
    "    stopwords = stopwords.union(more_stopwords)\n",
    "\n",
    "    wordcloud = WordCloud(background_color='white',\n",
    "                    stopwords = stopwords,\n",
    "                    max_words = max_words,\n",
    "                    max_font_size = max_font_size, \n",
    "                    random_state = 42,\n",
    "                    mask = mask)\n",
    "    wordcloud.generate(text)\n",
    "    \n",
    "    plt.figure(figsize=figure_size)\n",
    "    if image_color:\n",
    "        image_colors = ImageColorGenerator(mask);\n",
    "        plt.imshow(wordcloud.recolor(color_func=image_colors), interpolation=\"bilinear\");\n",
    "        plt.title(title, fontdict={'size': title_size,  \n",
    "                                  'verticalalignment': 'bottom'})\n",
    "    else:\n",
    "        plt.imshow(wordcloud);\n",
    "        plt.title(title, fontdict={'size': title_size, 'color': 'green', \n",
    "                                  'verticalalignment': 'bottom'})\n",
    "    plt.axis('off');\n",
    "    plt.tight_layout()  \n",
    "d = '../input/masks/masks-wordclouds/'"
   ]
  },
  {
   "cell_type": "code",
   "execution_count": 81,
   "metadata": {
    "execution": {
     "iopub.execute_input": "2020-11-21T06:34:29.187172Z",
     "iopub.status.busy": "2020-11-21T06:34:29.186481Z",
     "iopub.status.idle": "2020-11-21T06:34:29.189334Z",
     "shell.execute_reply": "2020-11-21T06:34:29.188697Z"
    },
    "id": "MJfsjN-DH9Vu",
    "papermill": {
     "duration": 0.056112,
     "end_time": "2020-11-21T06:34:29.189440",
     "exception": false,
     "start_time": "2020-11-21T06:34:29.133328",
     "status": "completed"
    },
    "tags": []
   },
   "outputs": [],
   "source": [
    "data = good_sites.text_sent\n",
    "data.reset_index(drop=True, inplace=True)"
   ]
  },
  {
   "cell_type": "code",
   "execution_count": 82,
   "metadata": {
    "execution": {
     "iopub.execute_input": "2020-11-21T06:34:30.686565Z",
     "iopub.status.busy": "2020-11-21T06:34:30.685613Z",
     "iopub.status.idle": "2020-11-21T06:34:30.688797Z",
     "shell.execute_reply": "2020-11-21T06:34:30.688300Z"
    },
    "id": "zGhZJGhkH9Vv",
    "papermill": {
     "duration": 0.063973,
     "end_time": "2020-11-21T06:34:30.688902",
     "exception": false,
     "start_time": "2020-11-21T06:34:30.624929",
     "status": "completed"
    },
    "tags": []
   },
   "outputs": [],
   "source": [
    "data = bad_sites.text_sent\n",
    "data.reset_index(drop=True, inplace=True)"
   ]
  },
  {
   "cell_type": "markdown",
   "metadata": {
    "id": "NGoJtuD6H9Vv",
    "papermill": {
     "duration": 0.059163,
     "end_time": "2020-11-21T06:34:33.233117",
     "exception": false,
     "start_time": "2020-11-21T06:34:33.173954",
     "status": "completed"
    },
    "tags": []
   },
   "source": [
    "### Creating Model\n",
    "#### CountVectorizer\n",
    "* CountVectorizer is used to transform a corpora of text to a vector of term / token counts."
   ]
  },
  {
   "cell_type": "code",
   "execution_count": 83,
   "metadata": {
    "execution": {
     "iopub.execute_input": "2020-11-21T06:34:33.356500Z",
     "iopub.status.busy": "2020-11-21T06:34:33.355854Z",
     "iopub.status.idle": "2020-11-21T06:34:33.358407Z",
     "shell.execute_reply": "2020-11-21T06:34:33.357796Z"
    },
    "id": "Yqs9K3pGH9Vv",
    "papermill": {
     "duration": 0.066004,
     "end_time": "2020-11-21T06:34:33.358522",
     "exception": false,
     "start_time": "2020-11-21T06:34:33.292518",
     "status": "completed"
    },
    "tags": []
   },
   "outputs": [],
   "source": [
    "#create cv object\n",
    "cv = CountVectorizer()"
   ]
  },
  {
   "cell_type": "code",
   "execution_count": 84,
   "metadata": {
    "colab": {
     "base_uri": "https://localhost:8080/"
    },
    "execution": {
     "iopub.execute_input": "2020-11-21T06:34:33.484011Z",
     "iopub.status.busy": "2020-11-21T06:34:33.483319Z",
     "iopub.status.idle": "2020-11-21T06:34:33.493554Z",
     "shell.execute_reply": "2020-11-21T06:34:33.492820Z"
    },
    "id": "TxjRh0OkH9Vv",
    "outputId": "5b37551d-6a78-40f8-85a6-6ef0a9feb4d2",
    "papermill": {
     "duration": 0.075877,
     "end_time": "2020-11-21T06:34:33.493708",
     "exception": false,
     "start_time": "2020-11-21T06:34:33.417831",
     "status": "completed"
    },
    "tags": []
   },
   "outputs": [
    {
     "name": "stdout",
     "output_type": "stream",
     "text": [
      "Help on CountVectorizer in module sklearn.feature_extraction.text object:\n",
      "\n",
      "class CountVectorizer(_VectorizerMixin, sklearn.base.BaseEstimator)\n",
      " |  CountVectorizer(*, input='content', encoding='utf-8', decode_error='strict', strip_accents=None, lowercase=True, preprocessor=None, tokenizer=None, stop_words=None, token_pattern='(?u)\\\\b\\\\w\\\\w+\\\\b', ngram_range=(1, 1), analyzer='word', max_df=1.0, min_df=1, max_features=None, vocabulary=None, binary=False, dtype=<class 'numpy.int64'>)\n",
      " |  \n",
      " |  Convert a collection of text documents to a matrix of token counts.\n",
      " |  \n",
      " |  This implementation produces a sparse representation of the counts using\n",
      " |  scipy.sparse.csr_matrix.\n",
      " |  \n",
      " |  If you do not provide an a-priori dictionary and you do not use an analyzer\n",
      " |  that does some kind of feature selection then the number of features will\n",
      " |  be equal to the vocabulary size found by analyzing the data.\n",
      " |  \n",
      " |  Read more in the :ref:`User Guide <text_feature_extraction>`.\n",
      " |  \n",
      " |  Parameters\n",
      " |  ----------\n",
      " |  input : {'filename', 'file', 'content'}, default='content'\n",
      " |      - If `'filename'`, the sequence passed as an argument to fit is\n",
      " |        expected to be a list of filenames that need reading to fetch\n",
      " |        the raw content to analyze.\n",
      " |  \n",
      " |      - If `'file'`, the sequence items must have a 'read' method (file-like\n",
      " |        object) that is called to fetch the bytes in memory.\n",
      " |  \n",
      " |      - If `'content'`, the input is expected to be a sequence of items that\n",
      " |        can be of type string or byte.\n",
      " |  \n",
      " |  encoding : str, default='utf-8'\n",
      " |      If bytes or files are given to analyze, this encoding is used to\n",
      " |      decode.\n",
      " |  \n",
      " |  decode_error : {'strict', 'ignore', 'replace'}, default='strict'\n",
      " |      Instruction on what to do if a byte sequence is given to analyze that\n",
      " |      contains characters not of the given `encoding`. By default, it is\n",
      " |      'strict', meaning that a UnicodeDecodeError will be raised. Other\n",
      " |      values are 'ignore' and 'replace'.\n",
      " |  \n",
      " |  strip_accents : {'ascii', 'unicode'}, default=None\n",
      " |      Remove accents and perform other character normalization\n",
      " |      during the preprocessing step.\n",
      " |      'ascii' is a fast method that only works on characters that have\n",
      " |      an direct ASCII mapping.\n",
      " |      'unicode' is a slightly slower method that works on any characters.\n",
      " |      None (default) does nothing.\n",
      " |  \n",
      " |      Both 'ascii' and 'unicode' use NFKD normalization from\n",
      " |      :func:`unicodedata.normalize`.\n",
      " |  \n",
      " |  lowercase : bool, default=True\n",
      " |      Convert all characters to lowercase before tokenizing.\n",
      " |  \n",
      " |  preprocessor : callable, default=None\n",
      " |      Override the preprocessing (strip_accents and lowercase) stage while\n",
      " |      preserving the tokenizing and n-grams generation steps.\n",
      " |      Only applies if ``analyzer`` is not callable.\n",
      " |  \n",
      " |  tokenizer : callable, default=None\n",
      " |      Override the string tokenization step while preserving the\n",
      " |      preprocessing and n-grams generation steps.\n",
      " |      Only applies if ``analyzer == 'word'``.\n",
      " |  \n",
      " |  stop_words : {'english'}, list, default=None\n",
      " |      If 'english', a built-in stop word list for English is used.\n",
      " |      There are several known issues with 'english' and you should\n",
      " |      consider an alternative (see :ref:`stop_words`).\n",
      " |  \n",
      " |      If a list, that list is assumed to contain stop words, all of which\n",
      " |      will be removed from the resulting tokens.\n",
      " |      Only applies if ``analyzer == 'word'``.\n",
      " |  \n",
      " |      If None, no stop words will be used. max_df can be set to a value\n",
      " |      in the range [0.7, 1.0) to automatically detect and filter stop\n",
      " |      words based on intra corpus document frequency of terms.\n",
      " |  \n",
      " |  token_pattern : str, default=r\"(?u)\\\\b\\\\w\\\\w+\\\\b\"\n",
      " |      Regular expression denoting what constitutes a \"token\", only used\n",
      " |      if ``analyzer == 'word'``. The default regexp select tokens of 2\n",
      " |      or more alphanumeric characters (punctuation is completely ignored\n",
      " |      and always treated as a token separator).\n",
      " |  \n",
      " |      If there is a capturing group in token_pattern then the\n",
      " |      captured group content, not the entire match, becomes the token.\n",
      " |      At most one capturing group is permitted.\n",
      " |  \n",
      " |  ngram_range : tuple (min_n, max_n), default=(1, 1)\n",
      " |      The lower and upper boundary of the range of n-values for different\n",
      " |      word n-grams or char n-grams to be extracted. All values of n such\n",
      " |      such that min_n <= n <= max_n will be used. For example an\n",
      " |      ``ngram_range`` of ``(1, 1)`` means only unigrams, ``(1, 2)`` means\n",
      " |      unigrams and bigrams, and ``(2, 2)`` means only bigrams.\n",
      " |      Only applies if ``analyzer`` is not callable.\n",
      " |  \n",
      " |  analyzer : {'word', 'char', 'char_wb'} or callable, default='word'\n",
      " |      Whether the feature should be made of word n-gram or character\n",
      " |      n-grams.\n",
      " |      Option 'char_wb' creates character n-grams only from text inside\n",
      " |      word boundaries; n-grams at the edges of words are padded with space.\n",
      " |  \n",
      " |      If a callable is passed it is used to extract the sequence of features\n",
      " |      out of the raw, unprocessed input.\n",
      " |  \n",
      " |      .. versionchanged:: 0.21\n",
      " |  \n",
      " |      Since v0.21, if ``input`` is ``filename`` or ``file``, the data is\n",
      " |      first read from the file and then passed to the given callable\n",
      " |      analyzer.\n",
      " |  \n",
      " |  max_df : float in range [0.0, 1.0] or int, default=1.0\n",
      " |      When building the vocabulary ignore terms that have a document\n",
      " |      frequency strictly higher than the given threshold (corpus-specific\n",
      " |      stop words).\n",
      " |      If float, the parameter represents a proportion of documents, integer\n",
      " |      absolute counts.\n",
      " |      This parameter is ignored if vocabulary is not None.\n",
      " |  \n",
      " |  min_df : float in range [0.0, 1.0] or int, default=1\n",
      " |      When building the vocabulary ignore terms that have a document\n",
      " |      frequency strictly lower than the given threshold. This value is also\n",
      " |      called cut-off in the literature.\n",
      " |      If float, the parameter represents a proportion of documents, integer\n",
      " |      absolute counts.\n",
      " |      This parameter is ignored if vocabulary is not None.\n",
      " |  \n",
      " |  max_features : int, default=None\n",
      " |      If not None, build a vocabulary that only consider the top\n",
      " |      max_features ordered by term frequency across the corpus.\n",
      " |  \n",
      " |      This parameter is ignored if vocabulary is not None.\n",
      " |  \n",
      " |  vocabulary : Mapping or iterable, default=None\n",
      " |      Either a Mapping (e.g., a dict) where keys are terms and values are\n",
      " |      indices in the feature matrix, or an iterable over terms. If not\n",
      " |      given, a vocabulary is determined from the input documents. Indices\n",
      " |      in the mapping should not be repeated and should not have any gap\n",
      " |      between 0 and the largest index.\n",
      " |  \n",
      " |  binary : bool, default=False\n",
      " |      If True, all non zero counts are set to 1. This is useful for discrete\n",
      " |      probabilistic models that model binary events rather than integer\n",
      " |      counts.\n",
      " |  \n",
      " |  dtype : type, default=np.int64\n",
      " |      Type of the matrix returned by fit_transform() or transform().\n",
      " |  \n",
      " |  Attributes\n",
      " |  ----------\n",
      " |  vocabulary_ : dict\n",
      " |      A mapping of terms to feature indices.\n",
      " |  \n",
      " |  fixed_vocabulary_ : bool\n",
      " |      True if a fixed vocabulary of term to indices mapping\n",
      " |      is provided by the user.\n",
      " |  \n",
      " |  stop_words_ : set\n",
      " |      Terms that were ignored because they either:\n",
      " |  \n",
      " |        - occurred in too many documents (`max_df`)\n",
      " |        - occurred in too few documents (`min_df`)\n",
      " |        - were cut off by feature selection (`max_features`).\n",
      " |  \n",
      " |      This is only available if no vocabulary was given.\n",
      " |  \n",
      " |  See Also\n",
      " |  --------\n",
      " |  HashingVectorizer : Convert a collection of text documents to a\n",
      " |      matrix of token counts.\n",
      " |  \n",
      " |  TfidfVectorizer : Convert a collection of raw documents to a matrix\n",
      " |      of TF-IDF features.\n",
      " |  \n",
      " |  Notes\n",
      " |  -----\n",
      " |  The ``stop_words_`` attribute can get large and increase the model size\n",
      " |  when pickling. This attribute is provided only for introspection and can\n",
      " |  be safely removed using delattr or set to None before pickling.\n",
      " |  \n",
      " |  Examples\n",
      " |  --------\n",
      " |  >>> from sklearn.feature_extraction.text import CountVectorizer\n",
      " |  >>> corpus = [\n",
      " |  ...     'This is the first document.',\n",
      " |  ...     'This document is the second document.',\n",
      " |  ...     'And this is the third one.',\n",
      " |  ...     'Is this the first document?',\n",
      " |  ... ]\n",
      " |  >>> vectorizer = CountVectorizer()\n",
      " |  >>> X = vectorizer.fit_transform(corpus)\n",
      " |  >>> vectorizer.get_feature_names_out()\n",
      " |  array(['and', 'document', 'first', 'is', 'one', 'second', 'the', 'third',\n",
      " |         'this'], ...)\n",
      " |  >>> print(X.toarray())\n",
      " |  [[0 1 1 1 0 0 1 0 1]\n",
      " |   [0 2 0 1 0 1 1 0 1]\n",
      " |   [1 0 0 1 1 0 1 1 1]\n",
      " |   [0 1 1 1 0 0 1 0 1]]\n",
      " |  >>> vectorizer2 = CountVectorizer(analyzer='word', ngram_range=(2, 2))\n",
      " |  >>> X2 = vectorizer2.fit_transform(corpus)\n",
      " |  >>> vectorizer2.get_feature_names_out()\n",
      " |  array(['and this', 'document is', 'first document', 'is the', 'is this',\n",
      " |         'second document', 'the first', 'the second', 'the third', 'third one',\n",
      " |         'this document', 'this is', 'this the'], ...)\n",
      " |   >>> print(X2.toarray())\n",
      " |   [[0 0 1 1 0 0 1 0 0 0 0 1 0]\n",
      " |   [0 1 0 1 0 1 0 1 0 0 1 0 0]\n",
      " |   [1 0 0 1 0 0 0 0 1 1 0 1 0]\n",
      " |   [0 0 1 0 1 0 1 0 0 0 0 0 1]]\n",
      " |  \n",
      " |  Method resolution order:\n",
      " |      CountVectorizer\n",
      " |      _VectorizerMixin\n",
      " |      sklearn.base.BaseEstimator\n",
      " |      builtins.object\n",
      " |  \n",
      " |  Methods defined here:\n",
      " |  \n",
      " |  __init__(self, *, input='content', encoding='utf-8', decode_error='strict', strip_accents=None, lowercase=True, preprocessor=None, tokenizer=None, stop_words=None, token_pattern='(?u)\\\\b\\\\w\\\\w+\\\\b', ngram_range=(1, 1), analyzer='word', max_df=1.0, min_df=1, max_features=None, vocabulary=None, binary=False, dtype=<class 'numpy.int64'>)\n",
      " |      Initialize self.  See help(type(self)) for accurate signature.\n",
      " |  \n",
      " |  fit(self, raw_documents, y=None)\n",
      " |      Learn a vocabulary dictionary of all tokens in the raw documents.\n",
      " |      \n",
      " |      Parameters\n",
      " |      ----------\n",
      " |      raw_documents : iterable\n",
      " |          An iterable which generates either str, unicode or file objects.\n",
      " |      \n",
      " |      y : None\n",
      " |          This parameter is ignored.\n",
      " |      \n",
      " |      Returns\n",
      " |      -------\n",
      " |      self : object\n",
      " |          Fitted vectorizer.\n",
      " |  \n",
      " |  fit_transform(self, raw_documents, y=None)\n",
      " |      Learn the vocabulary dictionary and return document-term matrix.\n",
      " |      \n",
      " |      This is equivalent to fit followed by transform, but more efficiently\n",
      " |      implemented.\n",
      " |      \n",
      " |      Parameters\n",
      " |      ----------\n",
      " |      raw_documents : iterable\n",
      " |          An iterable which generates either str, unicode or file objects.\n",
      " |      \n",
      " |      y : None\n",
      " |          This parameter is ignored.\n",
      " |      \n",
      " |      Returns\n",
      " |      -------\n",
      " |      X : array of shape (n_samples, n_features)\n",
      " |          Document-term matrix.\n",
      " |  \n",
      " |  get_feature_names(self)\n",
      " |      DEPRECATED: get_feature_names is deprecated in 1.0 and will be removed in 1.2. Please use get_feature_names_out instead.\n",
      " |      \n",
      " |      Array mapping from feature integer indices to feature name.\n",
      " |      \n",
      " |          Returns\n",
      " |          -------\n",
      " |          feature_names : list\n",
      " |              A list of feature names.\n",
      " |  \n",
      " |  get_feature_names_out(self, input_features=None)\n",
      " |      Get output feature names for transformation.\n",
      " |      \n",
      " |      Parameters\n",
      " |      ----------\n",
      " |      input_features : array-like of str or None, default=None\n",
      " |          Not used, present here for API consistency by convention.\n",
      " |      \n",
      " |      Returns\n",
      " |      -------\n",
      " |      feature_names_out : ndarray of str objects\n",
      " |          Transformed feature names.\n",
      " |  \n",
      " |  inverse_transform(self, X)\n",
      " |      Return terms per document with nonzero entries in X.\n",
      " |      \n",
      " |      Parameters\n",
      " |      ----------\n",
      " |      X : {array-like, sparse matrix} of shape (n_samples, n_features)\n",
      " |          Document-term matrix.\n",
      " |      \n",
      " |      Returns\n",
      " |      -------\n",
      " |      X_inv : list of arrays of shape (n_samples,)\n",
      " |          List of arrays of terms.\n",
      " |  \n",
      " |  transform(self, raw_documents)\n",
      " |      Transform documents to document-term matrix.\n",
      " |      \n",
      " |      Extract token counts out of raw text documents using the vocabulary\n",
      " |      fitted with fit or the one provided to the constructor.\n",
      " |      \n",
      " |      Parameters\n",
      " |      ----------\n",
      " |      raw_documents : iterable\n",
      " |          An iterable which generates either str, unicode or file objects.\n",
      " |      \n",
      " |      Returns\n",
      " |      -------\n",
      " |      X : sparse matrix of shape (n_samples, n_features)\n",
      " |          Document-term matrix.\n",
      " |  \n",
      " |  ----------------------------------------------------------------------\n",
      " |  Methods inherited from _VectorizerMixin:\n",
      " |  \n",
      " |  build_analyzer(self)\n",
      " |      Return a callable to process input data.\n",
      " |      \n",
      " |      The callable handles that handles preprocessing, tokenization, and\n",
      " |      n-grams generation.\n",
      " |      \n",
      " |      Returns\n",
      " |      -------\n",
      " |      analyzer: callable\n",
      " |          A function to handle preprocessing, tokenization\n",
      " |          and n-grams generation.\n",
      " |  \n",
      " |  build_preprocessor(self)\n",
      " |      Return a function to preprocess the text before tokenization.\n",
      " |      \n",
      " |      Returns\n",
      " |      -------\n",
      " |      preprocessor: callable\n",
      " |            A function to preprocess the text before tokenization.\n",
      " |  \n",
      " |  build_tokenizer(self)\n",
      " |      Return a function that splits a string into a sequence of tokens.\n",
      " |      \n",
      " |      Returns\n",
      " |      -------\n",
      " |      tokenizer: callable\n",
      " |            A function to split a string into a sequence of tokens.\n",
      " |  \n",
      " |  decode(self, doc)\n",
      " |      Decode the input into a string of unicode symbols.\n",
      " |      \n",
      " |      The decoding strategy depends on the vectorizer parameters.\n",
      " |      \n",
      " |      Parameters\n",
      " |      ----------\n",
      " |      doc : bytes or str\n",
      " |          The string to decode.\n",
      " |      \n",
      " |      Returns\n",
      " |      -------\n",
      " |      doc: str\n",
      " |          A string of unicode symbols.\n",
      " |  \n",
      " |  get_stop_words(self)\n",
      " |      Build or fetch the effective stop words list.\n",
      " |      \n",
      " |      Returns\n",
      " |      -------\n",
      " |      stop_words: list or None\n",
      " |              A list of stop words.\n",
      " |  \n",
      " |  ----------------------------------------------------------------------\n",
      " |  Data descriptors inherited from _VectorizerMixin:\n",
      " |  \n",
      " |  __dict__\n",
      " |      dictionary for instance variables (if defined)\n",
      " |  \n",
      " |  __weakref__\n",
      " |      list of weak references to the object (if defined)\n",
      " |  \n",
      " |  ----------------------------------------------------------------------\n",
      " |  Methods inherited from sklearn.base.BaseEstimator:\n",
      " |  \n",
      " |  __getstate__(self)\n",
      " |  \n",
      " |  __repr__(self, N_CHAR_MAX=700)\n",
      " |      Return repr(self).\n",
      " |  \n",
      " |  __setstate__(self, state)\n",
      " |  \n",
      " |  get_params(self, deep=True)\n",
      " |      Get parameters for this estimator.\n",
      " |      \n",
      " |      Parameters\n",
      " |      ----------\n",
      " |      deep : bool, default=True\n",
      " |          If True, will return the parameters for this estimator and\n",
      " |          contained subobjects that are estimators.\n",
      " |      \n",
      " |      Returns\n",
      " |      -------\n",
      " |      params : dict\n",
      " |          Parameter names mapped to their values.\n",
      " |  \n",
      " |  set_params(self, **params)\n",
      " |      Set the parameters of this estimator.\n",
      " |      \n",
      " |      The method works on simple estimators as well as on nested objects\n",
      " |      (such as :class:`~sklearn.pipeline.Pipeline`). The latter have\n",
      " |      parameters of the form ``<component>__<parameter>`` so that it's\n",
      " |      possible to update each component of a nested object.\n",
      " |      \n",
      " |      Parameters\n",
      " |      ----------\n",
      " |      **params : dict\n",
      " |          Estimator parameters.\n",
      " |      \n",
      " |      Returns\n",
      " |      -------\n",
      " |      self : estimator instance\n",
      " |          Estimator instance.\n",
      "\n"
     ]
    }
   ],
   "source": [
    "help(CountVectorizer())"
   ]
  },
  {
   "cell_type": "code",
   "execution_count": 85,
   "metadata": {
    "execution": {
     "iopub.execute_input": "2020-11-21T06:34:33.645823Z",
     "iopub.status.busy": "2020-11-21T06:34:33.635605Z",
     "iopub.status.idle": "2020-11-21T06:34:39.923174Z",
     "shell.execute_reply": "2020-11-21T06:34:39.922488Z"
    },
    "id": "oSAHm_q0H9Vv",
    "papermill": {
     "duration": 6.366422,
     "end_time": "2020-11-21T06:34:39.923294",
     "exception": false,
     "start_time": "2020-11-21T06:34:33.556872",
     "status": "completed"
    },
    "tags": []
   },
   "outputs": [],
   "source": [
    "feature = cv.fit_transform(phish_data.text_sent) #transform all text which we tokenize and stemed"
   ]
  },
  {
   "cell_type": "code",
   "execution_count": 86,
   "metadata": {
    "colab": {
     "base_uri": "https://localhost:8080/"
    },
    "execution": {
     "iopub.execute_input": "2020-11-21T06:34:40.049686Z",
     "iopub.status.busy": "2020-11-21T06:34:40.048966Z",
     "iopub.status.idle": "2020-11-21T06:34:40.055355Z",
     "shell.execute_reply": "2020-11-21T06:34:40.055821Z"
    },
    "id": "QGW7ndn3H9Vv",
    "outputId": "16803a89-35f8-4e12-9ea4-9c9032993e98",
    "papermill": {
     "duration": 0.071731,
     "end_time": "2020-11-21T06:34:40.055960",
     "exception": false,
     "start_time": "2020-11-21T06:34:39.984229",
     "status": "completed"
    },
    "tags": []
   },
   "outputs": [
    {
     "data": {
      "text/plain": [
       "array([[0, 0, 0, ..., 0, 0, 0],\n",
       "       [0, 0, 0, ..., 0, 0, 0],\n",
       "       [0, 0, 0, ..., 0, 0, 0],\n",
       "       [0, 0, 0, ..., 0, 0, 0],\n",
       "       [0, 0, 0, ..., 0, 0, 0]], dtype=int64)"
      ]
     },
     "execution_count": 86,
     "metadata": {},
     "output_type": "execute_result"
    }
   ],
   "source": [
    "feature[:5].toarray() # convert sparse matrix into array to print transformed features"
   ]
  },
  {
   "cell_type": "markdown",
   "metadata": {
    "id": "fOwjlyc0H9Vv",
    "papermill": {
     "duration": 0.060581,
     "end_time": "2020-11-21T06:34:40.177276",
     "exception": false,
     "start_time": "2020-11-21T06:34:40.116695",
     "status": "completed"
    },
    "tags": []
   },
   "source": [
    "#### * Spliting the data "
   ]
  },
  {
   "cell_type": "code",
   "execution_count": 87,
   "metadata": {
    "execution": {
     "iopub.execute_input": "2020-11-21T06:34:40.304354Z",
     "iopub.status.busy": "2020-11-21T06:34:40.303706Z",
     "iopub.status.idle": "2020-11-21T06:34:40.410343Z",
     "shell.execute_reply": "2020-11-21T06:34:40.410845Z"
    },
    "id": "qXbV0AS8H9Vv",
    "papermill": {
     "duration": 0.173062,
     "end_time": "2020-11-21T06:34:40.411010",
     "exception": false,
     "start_time": "2020-11-21T06:34:40.237948",
     "status": "completed"
    },
    "tags": []
   },
   "outputs": [],
   "source": [
    "trainX, testX, trainY, testY = train_test_split(feature, phish_data.Label)"
   ]
  },
  {
   "cell_type": "markdown",
   "metadata": {
    "id": "5e-xC9_5H9Vw",
    "papermill": {
     "duration": 0.064856,
     "end_time": "2020-11-21T06:34:40.537020",
     "exception": false,
     "start_time": "2020-11-21T06:34:40.472164",
     "status": "completed"
    },
    "tags": []
   },
   "source": [
    "### LogisticRegression\n",
    "* Logistic Regression is a Machine Learning classification algorithm that is used to predict the probability of a categorical dependent variable. In logistic regression, the dependent variable is a binary variable that contains data coded as 1 (yes, success, etc.) or 0 (no, failure, etc.). In other words, the logistic regression model predicts P(Y=1) as a function of X."
   ]
  },
  {
   "cell_type": "code",
   "execution_count": 88,
   "metadata": {
    "execution": {
     "iopub.execute_input": "2020-11-21T06:34:40.664136Z",
     "iopub.status.busy": "2020-11-21T06:34:40.663497Z",
     "iopub.status.idle": "2020-11-21T06:34:40.666436Z",
     "shell.execute_reply": "2020-11-21T06:34:40.666904Z"
    },
    "id": "4yJf8VqGH9Vw",
    "papermill": {
     "duration": 0.069084,
     "end_time": "2020-11-21T06:34:40.667050",
     "exception": false,
     "start_time": "2020-11-21T06:34:40.597966",
     "status": "completed"
    },
    "tags": []
   },
   "outputs": [],
   "source": [
    "from sklearn.linear_model import LogisticRegression # algo use to predict good or bad\n",
    "# create lr object\n",
    "lr = LogisticRegression()"
   ]
  },
  {
   "cell_type": "code",
   "execution_count": 89,
   "metadata": {
    "colab": {
     "base_uri": "https://localhost:8080/"
    },
    "execution": {
     "iopub.execute_input": "2020-11-21T06:34:40.794259Z",
     "iopub.status.busy": "2020-11-21T06:34:40.793614Z",
     "iopub.status.idle": "2020-11-21T06:34:51.892855Z",
     "shell.execute_reply": "2020-11-21T06:34:51.892196Z"
    },
    "id": "XZYg5Y_yH9Vw",
    "outputId": "5c1321a3-d723-46ad-e47a-2c07faf67d06",
    "papermill": {
     "duration": 11.164513,
     "end_time": "2020-11-21T06:34:51.892975",
     "exception": false,
     "start_time": "2020-11-21T06:34:40.728462",
     "status": "completed"
    },
    "tags": []
   },
   "outputs": [
    {
     "data": {
      "text/plain": [
       "LogisticRegression()"
      ]
     },
     "execution_count": 89,
     "metadata": {},
     "output_type": "execute_result"
    }
   ],
   "source": [
    "lr.fit(trainX,trainY)"
   ]
  },
  {
   "cell_type": "code",
   "execution_count": 90,
   "metadata": {
    "colab": {
     "base_uri": "https://localhost:8080/"
    },
    "execution": {
     "iopub.execute_input": "2020-11-21T06:34:52.021905Z",
     "iopub.status.busy": "2020-11-21T06:34:52.021286Z",
     "iopub.status.idle": "2020-11-21T06:34:52.386734Z",
     "shell.execute_reply": "2020-11-21T06:34:52.385863Z"
    },
    "id": "pGvbPIpFH9Vw",
    "outputId": "a1286a70-2036-4182-ed84-b099be96f2dd",
    "papermill": {
     "duration": 0.431883,
     "end_time": "2020-11-21T06:34:52.386854",
     "exception": false,
     "start_time": "2020-11-21T06:34:51.954971",
     "status": "completed"
    },
    "tags": []
   },
   "outputs": [
    {
     "data": {
      "text/plain": [
       "0.9652172013572354"
      ]
     },
     "execution_count": 90,
     "metadata": {},
     "output_type": "execute_result"
    }
   ],
   "source": [
    "lr.score(testX,testY)"
   ]
  },
  {
   "cell_type": "markdown",
   "metadata": {
    "id": "37-p1QtHH9Vw",
    "papermill": {
     "duration": 0.061787,
     "end_time": "2020-11-21T06:34:52.510156",
     "exception": false,
     "start_time": "2020-11-21T06:34:52.448369",
     "status": "completed"
    },
    "tags": []
   },
   "source": [
    ".*** Logistic Regression is giving 96% accuracy, Now we will store scores in dict to see which model perform best**"
   ]
  },
  {
   "cell_type": "code",
   "execution_count": 91,
   "metadata": {
    "execution": {
     "iopub.execute_input": "2020-11-21T06:34:52.638783Z",
     "iopub.status.busy": "2020-11-21T06:34:52.638167Z",
     "iopub.status.idle": "2020-11-21T06:34:52.995333Z",
     "shell.execute_reply": "2020-11-21T06:34:52.995800Z"
    },
    "id": "6QbGJ9b7H9Vw",
    "papermill": {
     "duration": 0.424014,
     "end_time": "2020-11-21T06:34:52.995954",
     "exception": false,
     "start_time": "2020-11-21T06:34:52.571940",
     "status": "completed"
    },
    "tags": []
   },
   "outputs": [],
   "source": [
    "Scores_ml = {}\n",
    "Scores_ml['Logistic Regression'] = np.round(lr.score(testX,testY),2)"
   ]
  },
  {
   "cell_type": "code",
   "execution_count": 92,
   "metadata": {
    "colab": {
     "base_uri": "https://localhost:8080/",
     "height": 560
    },
    "execution": {
     "iopub.execute_input": "2020-11-21T06:34:53.128905Z",
     "iopub.status.busy": "2020-11-21T06:34:53.128237Z",
     "iopub.status.idle": "2020-11-21T06:35:02.089530Z",
     "shell.execute_reply": "2020-11-21T06:35:02.088863Z"
    },
    "id": "iCwU2JevH9Vw",
    "outputId": "3ba4b8e8-bb21-49c3-b50f-c2f61a7ca512",
    "papermill": {
     "duration": 9.031138,
     "end_time": "2020-11-21T06:35:02.089643",
     "exception": false,
     "start_time": "2020-11-21T06:34:53.058505",
     "status": "completed"
    },
    "tags": []
   },
   "outputs": [
    {
     "name": "stdout",
     "output_type": "stream",
     "text": [
      "Training Accuracy : 0.9793476387766346\n",
      "Testing Accuracy : 0.9652172013572354\n",
      "\n",
      "CLASSIFICATION REPORT\n",
      "\n",
      "              precision    recall  f1-score   support\n",
      "\n",
      "         Bad       0.91      0.97      0.94     36710\n",
      "        Good       0.99      0.96      0.98    100628\n",
      "\n",
      "    accuracy                           0.97    137338\n",
      "   macro avg       0.95      0.97      0.96    137338\n",
      "weighted avg       0.97      0.97      0.97    137338\n",
      "\n",
      "\n",
      "CONFUSION MATRIX\n"
     ]
    },
    {
     "data": {
      "text/plain": [
       "<AxesSubplot:>"
      ]
     },
     "execution_count": 92,
     "metadata": {},
     "output_type": "execute_result"
    },
    {
     "data": {
      "image/png": "[encoded data removed]",
      "text/plain": [
       "<Figure size 600x400 with 2 Axes>"
      ]
     },
     "metadata": {},
     "output_type": "display_data"
    }
   ],
   "source": [
    "print('Training Accuracy :',lr.score(trainX,trainY))\n",
    "print('Testing Accuracy :',lr.score(testX,testY))\n",
    "con_mat = pd.DataFrame(confusion_matrix(lr.predict(testX), testY),\n",
    "            columns = ['Predicted:Bad', 'Predicted:Good'],\n",
    "            index = ['Actual:Bad', 'Actual:Good'])\n",
    "\n",
    "\n",
    "print('\\nCLASSIFICATION REPORT\\n')\n",
    "print(classification_report(lr.predict(testX), testY,\n",
    "                            target_names =['Bad','Good']))\n",
    "\n",
    "print('\\nCONFUSION MATRIX')\n",
    "plt.figure(figsize= (6,4))\n",
    "sns.heatmap(con_mat, annot = True,fmt='d',cmap=\"YlGnBu\")"
   ]
  },
  {
   "cell_type": "markdown",
   "metadata": {
    "id": "Wj2Nz-q9H9Vw",
    "papermill": {
     "duration": 0.065148,
     "end_time": "2020-11-21T06:35:02.228145",
     "exception": false,
     "start_time": "2020-11-21T06:35:02.162997",
     "status": "completed"
    },
    "tags": []
   },
   "source": [
    "### MultinomialNB\n",
    "* Applying Multinomial Naive Bayes to NLP Problems. Naive Bayes Classifier Algorithm is a family of probabilistic algorithms based on applying Bayes' theorem with the “naive” assumption of conditional independence between every pair of a feature."
   ]
  },
  {
   "cell_type": "code",
   "execution_count": 93,
   "metadata": {
    "execution": {
     "iopub.execute_input": "2020-11-21T06:35:02.365288Z",
     "iopub.status.busy": "2020-11-21T06:35:02.364604Z",
     "iopub.status.idle": "2020-11-21T06:35:02.368130Z",
     "shell.execute_reply": "2020-11-21T06:35:02.367414Z"
    },
    "id": "kZjjOHpsH9Vw",
    "papermill": {
     "duration": 0.073474,
     "end_time": "2020-11-21T06:35:02.368259",
     "exception": false,
     "start_time": "2020-11-21T06:35:02.294785",
     "status": "completed"
    },
    "tags": []
   },
   "outputs": [],
   "source": [
    "from sklearn.naive_bayes import MultinomialNB # nlp algo use to predict good or bad\n",
    "# create mnb object\n",
    "mnb = MultinomialNB()"
   ]
  },
  {
   "cell_type": "code",
   "execution_count": 94,
   "metadata": {
    "colab": {
     "base_uri": "https://localhost:8080/"
    },
    "execution": {
     "iopub.execute_input": "2020-11-21T06:35:02.510043Z",
     "iopub.status.busy": "2020-11-21T06:35:02.509013Z",
     "iopub.status.idle": "2020-11-21T06:35:04.246384Z",
     "shell.execute_reply": "2020-11-21T06:35:04.245735Z"
    },
    "id": "4ZprWJG3H9Vw",
    "outputId": "cb4b0ef4-386b-414e-8c5b-98048a5ab5d6",
    "papermill": {
     "duration": 1.813507,
     "end_time": "2020-11-21T06:35:04.246502",
     "exception": false,
     "start_time": "2020-11-21T06:35:02.432995",
     "status": "completed"
    },
    "tags": []
   },
   "outputs": [
    {
     "data": {
      "text/plain": [
       "MultinomialNB()"
      ]
     },
     "execution_count": 94,
     "metadata": {},
     "output_type": "execute_result"
    }
   ],
   "source": [
    "mnb.fit(trainX,trainY)"
   ]
  },
  {
   "cell_type": "code",
   "execution_count": 95,
   "metadata": {
    "colab": {
     "base_uri": "https://localhost:8080/"
    },
    "execution": {
     "iopub.execute_input": "2020-11-21T06:35:04.382970Z",
     "iopub.status.busy": "2020-11-21T06:35:04.381839Z",
     "iopub.status.idle": "2020-11-21T06:35:04.740889Z",
     "shell.execute_reply": "2020-11-21T06:35:04.740381Z"
    },
    "id": "S9oHX41wH9Vw",
    "outputId": "8e91279b-fc36-4480-becc-7d2315dad153",
    "papermill": {
     "duration": 0.429142,
     "end_time": "2020-11-21T06:35:04.741008",
     "exception": false,
     "start_time": "2020-11-21T06:35:04.311866",
     "status": "completed"
    },
    "tags": []
   },
   "outputs": [
    {
     "data": {
      "text/plain": [
       "0.9588824651589509"
      ]
     },
     "execution_count": 95,
     "metadata": {},
     "output_type": "execute_result"
    }
   ],
   "source": [
    "mnb.score(testX,testY)"
   ]
  },
  {
   "cell_type": "markdown",
   "metadata": {
    "id": "SV8pWXWgH9Vx",
    "papermill": {
     "duration": 0.066532,
     "end_time": "2020-11-21T06:35:04.873833",
     "exception": false,
     "start_time": "2020-11-21T06:35:04.807301",
     "status": "completed"
    },
    "tags": []
   },
   "source": [
    "*** MultinomialNB gives us 95% accuracy**  "
   ]
  },
  {
   "cell_type": "code",
   "execution_count": 96,
   "metadata": {
    "execution": {
     "iopub.execute_input": "2020-11-21T06:35:05.015114Z",
     "iopub.status.busy": "2020-11-21T06:35:05.014445Z",
     "iopub.status.idle": "2020-11-21T06:35:05.370407Z",
     "shell.execute_reply": "2020-11-21T06:35:05.370862Z"
    },
    "id": "p_PdfmQ_H9Vx",
    "papermill": {
     "duration": 0.428671,
     "end_time": "2020-11-21T06:35:05.371025",
     "exception": false,
     "start_time": "2020-11-21T06:35:04.942354",
     "status": "completed"
    },
    "tags": []
   },
   "outputs": [],
   "source": [
    "Scores_ml['MultinomialNB'] = np.round(mnb.score(testX,testY),2)"
   ]
  },
  {
   "cell_type": "code",
   "execution_count": 97,
   "metadata": {
    "colab": {
     "base_uri": "https://localhost:8080/",
     "height": 560
    },
    "execution": {
     "iopub.execute_input": "2020-11-21T06:35:05.511540Z",
     "iopub.status.busy": "2020-11-21T06:35:05.510811Z",
     "iopub.status.idle": "2020-11-21T06:35:13.125767Z",
     "shell.execute_reply": "2020-11-21T06:35:13.125222Z"
    },
    "id": "--60lJvWH9Vx",
    "outputId": "be1ed1e5-8205-468a-8caf-50193ca2ec89",
    "papermill": {
     "duration": 7.68905,
     "end_time": "2020-11-21T06:35:13.125878",
     "exception": false,
     "start_time": "2020-11-21T06:35:05.436828",
     "status": "completed"
    },
    "tags": []
   },
   "outputs": [
    {
     "name": "stdout",
     "output_type": "stream",
     "text": [
      "Training Accuracy : 0.973923026326967\n",
      "Testing Accuracy : 0.9588824651589509\n",
      "\n",
      "CLASSIFICATION REPORT\n",
      "\n",
      "              precision    recall  f1-score   support\n",
      "\n",
      "         Bad       0.92      0.94      0.93     38170\n",
      "        Good       0.98      0.97      0.97     99168\n",
      "\n",
      "    accuracy                           0.96    137338\n",
      "   macro avg       0.95      0.95      0.95    137338\n",
      "weighted avg       0.96      0.96      0.96    137338\n",
      "\n",
      "\n",
      "CONFUSION MATRIX\n"
     ]
    },
    {
     "data": {
      "text/plain": [
       "<AxesSubplot:>"
      ]
     },
     "execution_count": 97,
     "metadata": {},
     "output_type": "execute_result"
    },
    {
     "data": {
      "image/png": "[encoded data removed]",
      "text/plain": [
       "<Figure size 600x400 with 2 Axes>"
      ]
     },
     "metadata": {},
     "output_type": "display_data"
    }
   ],
   "source": [
    "print('Training Accuracy :',mnb.score(trainX,trainY))\n",
    "print('Testing Accuracy :',mnb.score(testX,testY))\n",
    "con_mat = pd.DataFrame(confusion_matrix(mnb.predict(testX), testY),\n",
    "            columns = ['Predicted:Bad', 'Predicted:Good'],\n",
    "            index = ['Actual:Bad', 'Actual:Good'])\n",
    "\n",
    "\n",
    "print('\\nCLASSIFICATION REPORT\\n')\n",
    "print(classification_report(mnb.predict(testX), testY,\n",
    "                            target_names =['Bad','Good']))\n",
    "\n",
    "print('\\nCONFUSION MATRIX')\n",
    "plt.figure(figsize= (6,4))\n",
    "sns.heatmap(con_mat, annot = True,fmt='d',cmap=\"YlGnBu\")"
   ]
  },
  {
   "cell_type": "code",
   "execution_count": 98,
   "metadata": {
    "colab": {
     "base_uri": "https://localhost:8080/",
     "height": 282
    },
    "execution": {
     "iopub.execute_input": "2020-11-21T06:35:13.282599Z",
     "iopub.status.busy": "2020-11-21T06:35:13.280962Z",
     "iopub.status.idle": "2020-11-21T06:35:13.395851Z",
     "shell.execute_reply": "2020-11-21T06:35:13.395251Z"
    },
    "id": "sP52dgVPH9Vx",
    "outputId": "f3ce53cd-79df-48d4-a2e8-327f7a00e422",
    "papermill": {
     "duration": 0.202692,
     "end_time": "2020-11-21T06:35:13.395971",
     "exception": false,
     "start_time": "2020-11-21T06:35:13.193279",
     "status": "completed"
    },
    "tags": []
   },
   "outputs": [
    {
     "data": {
      "text/plain": [
       "<AxesSubplot:ylabel='Accuracy'>"
      ]
     },
     "execution_count": 98,
     "metadata": {},
     "output_type": "execute_result"
    },
    {
     "data": {
      "image/png": "[encoded data removed]",
      "text/plain": [
       "<Figure size 640x480 with 1 Axes>"
      ]
     },
     "metadata": {},
     "output_type": "display_data"
    }
   ],
   "source": [
    "acc = pd.DataFrame.from_dict(Scores_ml,orient = 'index',columns=['Accuracy'])\n",
    "sns.set_style('darkgrid')\n",
    "sns.barplot(acc.index,acc.Accuracy)"
   ]
  },
  {
   "cell_type": "markdown",
   "metadata": {
    "id": "AlGPiljzH9Vx",
    "papermill": {
     "duration": 0.073519,
     "end_time": "2020-11-21T06:35:13.541101",
     "exception": false,
     "start_time": "2020-11-21T06:35:13.467582",
     "status": "completed"
    },
    "tags": []
   },
   "source": [
    "*** So, Logistic Regression is the best fit model, Now we make sklearn pipeline using Logistic Regression**"
   ]
  },
  {
   "cell_type": "code",
   "execution_count": 99,
   "metadata": {
    "execution": {
     "iopub.execute_input": "2020-11-21T06:35:13.687266Z",
     "iopub.status.busy": "2020-11-21T06:35:13.686391Z",
     "iopub.status.idle": "2020-11-21T06:35:13.689254Z",
     "shell.execute_reply": "2020-11-21T06:35:13.688722Z"
    },
    "id": "5eqxzs-JH9Vx",
    "papermill": {
     "duration": 0.077319,
     "end_time": "2020-11-21T06:35:13.689366",
     "exception": false,
     "start_time": "2020-11-21T06:35:13.612047",
     "status": "completed"
    },
    "tags": []
   },
   "outputs": [],
   "source": [
    "pipeline_ls = make_pipeline(CountVectorizer(tokenizer = RegexpTokenizer(r'[A-Za-z]+').tokenize,stop_words='english'), LogisticRegression())\n",
    "##(r'\\b(?:http|ftp)s?://\\S*\\w|\\w+|[^\\w\\s]+') ([a-zA-Z]+)([0-9]+)  -- these tolenizers giving me low accuray "
   ]
  },
  {
   "cell_type": "code",
   "execution_count": 100,
   "metadata": {
    "execution": {
     "iopub.execute_input": "2020-11-21T06:35:13.833473Z",
     "iopub.status.busy": "2020-11-21T06:35:13.832827Z",
     "iopub.status.idle": "2020-11-21T06:35:13.957862Z",
     "shell.execute_reply": "2020-11-21T06:35:13.957169Z"
    },
    "id": "A6nJ8EUeH9Vx",
    "papermill": {
     "duration": 0.199152,
     "end_time": "2020-11-21T06:35:13.957979",
     "exception": false,
     "start_time": "2020-11-21T06:35:13.758827",
     "status": "completed"
    },
    "tags": []
   },
   "outputs": [],
   "source": [
    "trainX, testX, trainY, testY = train_test_split(phish_data.URL, phish_data.Label)"
   ]
  },
  {
   "cell_type": "code",
   "execution_count": 101,
   "metadata": {
    "colab": {
     "base_uri": "https://localhost:8080/"
    },
    "execution": {
     "iopub.execute_input": "2020-11-21T06:35:14.135741Z",
     "iopub.status.busy": "2020-11-21T06:35:14.125427Z",
     "iopub.status.idle": "2020-11-21T06:35:30.594391Z",
     "shell.execute_reply": "2020-11-21T06:35:30.593865Z"
    },
    "id": "5L0kEe_TH9Vx",
    "outputId": "cc84772b-e297-4241-fd2c-7e7ef9ef2150",
    "papermill": {
     "duration": 16.567297,
     "end_time": "2020-11-21T06:35:30.594512",
     "exception": false,
     "start_time": "2020-11-21T06:35:14.027215",
     "status": "completed"
    },
    "tags": []
   },
   "outputs": [
    {
     "data": {
      "text/plain": [
       "Pipeline(steps=[('countvectorizer',\n",
       "                 CountVectorizer(stop_words='english',\n",
       "                                 tokenizer=<bound method RegexpTokenizer.tokenize of RegexpTokenizer(pattern='[A-Za-z]+', gaps=False, discard_empty=True, flags=re.UNICODE|re.MULTILINE|re.DOTALL)>)),\n",
       "                ('logisticregression', LogisticRegression())])"
      ]
     },
     "execution_count": 101,
     "metadata": {},
     "output_type": "execute_result"
    }
   ],
   "source": [
    "pipeline_ls.fit(trainX,trainY)"
   ]
  },
  {
   "cell_type": "code",
   "execution_count": 102,
   "metadata": {
    "colab": {
     "base_uri": "https://localhost:8080/"
    },
    "execution": {
     "iopub.execute_input": "2020-11-21T06:35:30.751490Z",
     "iopub.status.busy": "2020-11-21T06:35:30.746381Z",
     "iopub.status.idle": "2020-11-21T06:35:32.670107Z",
     "shell.execute_reply": "2020-11-21T06:35:32.670553Z"
    },
    "id": "v7AikVbVH9Vx",
    "outputId": "d0532848-f260-45cc-894e-42f415e4b975",
    "papermill": {
     "duration": 2.006921,
     "end_time": "2020-11-21T06:35:32.670696",
     "exception": false,
     "start_time": "2020-11-21T06:35:30.663775",
     "status": "completed"
    },
    "tags": []
   },
   "outputs": [
    {
     "data": {
      "text/plain": [
       "0.9654793283723369"
      ]
     },
     "execution_count": 102,
     "metadata": {},
     "output_type": "execute_result"
    }
   ],
   "source": [
    "pipeline_ls.score(testX,testY) "
   ]
  },
  {
   "cell_type": "code",
   "execution_count": 103,
   "metadata": {
    "colab": {
     "base_uri": "https://localhost:8080/",
     "height": 560
    },
    "execution": {
     "iopub.execute_input": "2020-11-21T06:35:32.838606Z",
     "iopub.status.busy": "2020-11-21T06:35:32.833492Z",
     "iopub.status.idle": "2020-11-21T06:35:51.122170Z",
     "shell.execute_reply": "2020-11-21T06:35:51.122631Z"
    },
    "id": "CCJLqrXZH9Vx",
    "outputId": "599a99b9-2ace-4cd9-ac71-de8797bc9ac0",
    "papermill": {
     "duration": 18.382175,
     "end_time": "2020-11-21T06:35:51.122787",
     "exception": false,
     "start_time": "2020-11-21T06:35:32.740612",
     "status": "completed"
    },
    "tags": []
   },
   "outputs": [
    {
     "name": "stdout",
     "output_type": "stream",
     "text": [
      "Training Accuracy : 0.9793913269305916\n",
      "Testing Accuracy : 0.9654793283723369\n",
      "\n",
      "CLASSIFICATION REPORT\n",
      "\n",
      "              precision    recall  f1-score   support\n",
      "\n",
      "         Bad       0.91      0.97      0.94     36765\n",
      "        Good       0.99      0.97      0.98    100573\n",
      "\n",
      "    accuracy                           0.97    137338\n",
      "   macro avg       0.95      0.97      0.96    137338\n",
      "weighted avg       0.97      0.97      0.97    137338\n",
      "\n",
      "\n",
      "CONFUSION MATRIX\n"
     ]
    },
    {
     "data": {
      "text/plain": [
       "<AxesSubplot:>"
      ]
     },
     "execution_count": 103,
     "metadata": {},
     "output_type": "execute_result"
    },
    {
     "data": {
      "image/png": "[encoded data removed]",
      "text/plain": [
       "<Figure size 600x400 with 2 Axes>"
      ]
     },
     "metadata": {},
     "output_type": "display_data"
    }
   ],
   "source": [
    "print('Training Accuracy :',pipeline_ls.score(trainX,trainY))\n",
    "print('Testing Accuracy :',pipeline_ls.score(testX,testY))\n",
    "con_mat = pd.DataFrame(confusion_matrix(pipeline_ls.predict(testX), testY),\n",
    "            columns = ['Predicted:Bad', 'Predicted:Good'],\n",
    "            index = ['Actual:Bad', 'Actual:Good'])\n",
    "\n",
    "\n",
    "print('\\nCLASSIFICATION REPORT\\n')\n",
    "print(classification_report(pipeline_ls.predict(testX), testY,\n",
    "                            target_names =['Bad','Good']))\n",
    "\n",
    "print('\\nCONFUSION MATRIX')\n",
    "plt.figure(figsize= (6,4))\n",
    "sns.heatmap(con_mat, annot = True,fmt='d',cmap=\"YlGnBu\")"
   ]
  },
  {
   "cell_type": "code",
   "execution_count": 104,
   "metadata": {
    "execution": {
     "iopub.execute_input": "2020-11-21T06:35:51.380431Z",
     "iopub.status.busy": "2020-11-21T06:35:51.272141Z",
     "iopub.status.idle": "2020-11-21T06:35:51.397402Z",
     "shell.execute_reply": "2020-11-21T06:35:51.396673Z"
    },
    "id": "4BphlTsOH9Vy",
    "papermill": {
     "duration": 0.201708,
     "end_time": "2020-11-21T06:35:51.397519",
     "exception": false,
     "start_time": "2020-11-21T06:35:51.195811",
     "status": "completed"
    },
    "tags": []
   },
   "outputs": [],
   "source": [
    "pickle.dump(pipeline_ls,open('phishing.pkl','wb'))"
   ]
  },
  {
   "cell_type": "code",
   "execution_count": 105,
   "metadata": {
    "colab": {
     "base_uri": "https://localhost:8080/"
    },
    "execution": {
     "iopub.execute_input": "2020-11-21T06:35:51.560839Z",
     "iopub.status.busy": "2020-11-21T06:35:51.559606Z",
     "iopub.status.idle": "2020-11-21T06:35:53.606457Z",
     "shell.execute_reply": "2020-11-21T06:35:53.606964Z"
    },
    "id": "1mp6ReifH9Vy",
    "outputId": "77f6ab20-584e-48cb-b423-fdc4023b8ed3",
    "papermill": {
     "duration": 2.137195,
     "end_time": "2020-11-21T06:35:53.607124",
     "exception": false,
     "start_time": "2020-11-21T06:35:51.469929",
     "status": "completed"
    },
    "tags": []
   },
   "outputs": [
    {
     "name": "stdout",
     "output_type": "stream",
     "text": [
      "0.9654793283723369\n"
     ]
    }
   ],
   "source": [
    "loaded_model = pickle.load(open('phishing.pkl', 'rb'))\n",
    "result = loaded_model.score(testX,testY)\n",
    "print(result)"
   ]
  },
  {
   "cell_type": "markdown",
   "metadata": {
    "id": "V2kceqquH9Vy",
    "papermill": {
     "duration": 0.071857,
     "end_time": "2020-11-21T06:35:53.751365",
     "exception": false,
     "start_time": "2020-11-21T06:35:53.679508",
     "status": "completed"
    },
    "tags": []
   },
   "source": [
    "***That’s it. See, it's that simple yet so effective. We get an accuracy of 98%. That’s a very high value for a machine to be able to detect a malicious URL with. Want to test some links to see if the model gives good predictions? Sure. Let's do it**"
   ]
  },
  {
   "cell_type": "markdown",
   "metadata": {
    "id": "ZycLFsrPH9Vy",
    "papermill": {
     "duration": 0.07137,
     "end_time": "2020-11-21T06:35:53.894609",
     "exception": false,
     "start_time": "2020-11-21T06:35:53.823239",
     "status": "completed"
    },
    "tags": []
   },
   "source": [
    "* Bad links => this are phishing sites\n",
    "yeniik.com.tr/wp-admin/js/login.alibaba.com/login.jsp.php\n",
    "fazan-pacir.rs/temp/libraries/ipad\n",
    "www.tubemoviez.exe\n",
    "svision-online.de/mgfi/administrator/components/com_babackup/classes/fx29id1.txt\n",
    "\n",
    "* Good links => this are not phishing sites\n",
    "www.youtube.com/\n",
    "youtube.com/watch?v=qI0TQJI3vdU\n",
    "www.retailhellunderground.com/\n",
    "restorevisioncenters.com/html/technology.html"
   ]
  },
  {
   "cell_type": "code",
   "execution_count": 106,
   "metadata": {
    "colab": {
     "base_uri": "https://localhost:8080/"
    },
    "execution": {
     "iopub.execute_input": "2020-11-21T06:35:54.050796Z",
     "iopub.status.busy": "2020-11-21T06:35:54.046721Z",
     "iopub.status.idle": "2020-11-21T06:35:54.175436Z",
     "shell.execute_reply": "2020-11-21T06:35:54.174713Z"
    },
    "id": "VjY7Hx3GH9Vy",
    "outputId": "639cf5ec-9d39-4c38-bd9c-7bb7d4193807",
    "papermill": {
     "duration": 0.208585,
     "end_time": "2020-11-21T06:35:54.175559",
     "exception": false,
     "start_time": "2020-11-21T06:35:53.966974",
     "status": "completed"
    },
    "tags": []
   },
   "outputs": [],
   "source": [
    "\n",
    "# predict_good = [\"www.google.com\"]\n",
    "# # predict_good.append(input(\"url\"))\n",
    "# loaded_model = pickle.load(open('phishing.pkl', 'rb'))\n",
    "# result = loaded_model.predict(predict_good)\n",
    "# print(result)\n",
    "# print(predict_good)"
   ]
  },
  {
   "cell_type": "markdown",
   "metadata": {},
   "source": [
    "# Designing UI part"
   ]
  },
  {
   "cell_type": "code",
   "execution_count": 107,
   "metadata": {},
   "outputs": [],
   "source": [
    "from tkinter import*\n",
    "\n",
    "# Top level window\n",
    "frame = Tk()\n",
    "frame.title(\"TextBox Input\")\n",
    "frame.geometry('400x200')\n",
    "# Function for getting Input\n",
    "# from textbox and printing it\n",
    "# at label widget\n",
    "arr = []\n",
    "def printInput():\n",
    "\tinp = inputtxt.get(1.0, \"end-1c\")\n",
    "\tarr.append(inp)\n",
    "\tloaded_model = pickle.load(open('phishing.pkl', 'rb'))\n",
    "\tresult = loaded_model.predict(arr)\n",
    "\tlbl.config(text = \"Your website is: \"+result)\n",
    "\n",
    "# TextBox Creation\n",
    "inputtxt = tk.Text(frame,\n",
    "\t\t\t\theight = 5,\n",
    "\t\t\t\twidth = 20)\n",
    "inputtxt.pack()\n",
    "inputtxt.place(x=100,y=70)\n",
    "\n",
    "# Button Creation\n",
    "printButton = tk.Button(frame,\n",
    "\t\t\t\t\t\ttext = \"Print\",\n",
    "\t\t\t\t\t\tcommand = printInput)\n",
    "printButton.pack()\n",
    "\n",
    "\n",
    "# Label Creation\n",
    "lbl = tk.Label(frame, text = \"\")\n",
    "lbl.pack()\n",
    "frame.mainloop()\n"
   ]
  },
  {
   "cell_type": "code",
   "execution_count": 109,
   "metadata": {},
   "outputs": [],
   "source": [
    "import tkinter as tk\n",
    "from PIL import Image, ImageTk\n",
    "import webbrowser\n",
    "\n",
    "# Top level window\n",
    "frame = tk.Tk()\n",
    "frame.title(\"PWD\")\n",
    "frame.geometry('1920x1080')\n",
    "\n",
    "\n",
    "# chile1\n",
    "def websiteBlocker():\n",
    "\t\n",
    "\tframe2 = tk.Toplevel(frame)\n",
    "\tframe2.geometry('650x400')\n",
    "\tframe2.minsize(650,400)\n",
    "\tframe2.maxsize(650,400)\n",
    "\tframe2.title(\"Website Blocker\")\n",
    "\n",
    "\t# child1 fevicon\n",
    "# \tico = Image.open('python/blocker_fevicon.png')\n",
    "# \tphoto = ImageTk.PhotoImage(ico)\n",
    "# \tframe2.wm_iconphoto(False, photo)\n",
    "\n",
    "\t# child1 blocker about \n",
    "\theading=tk.Label(frame2, text ='Website Blocker' , font ='arial')\n",
    "\theading.pack()\n",
    "\theading.place(x=255,y=10)\n",
    "\n",
    "\n",
    "\thost_path ='C:/windows/System32/drivers/etc/HOSTS'\n",
    "\tredirect = '127.0.0.1'\n",
    "\n",
    "\tdef Blocker():\n",
    "\t\twebsite_lists = enter_Website.get(1.0,tk.END)\n",
    "\t\tWebsite = list(website_lists.split(\",\"))\n",
    "\t\twith open (host_path , 'r+') as host_file:\n",
    "\t\t\tfile_content = host_file.read()\n",
    "\t\t\tfor web in Website:\n",
    "\t\t\t\tif web in file_content:\n",
    "\t\t\t\t\tdisplay.config(text = 'The website is already Blocked' , font = 'arial')\n",
    "\t\t\t\t\tdisplay.place(x=185,y=200)\n",
    "\t\t\t\telse:\n",
    "\t\t\t\t\thost_file.write(redirect + \" \" + web + '\\n')\n",
    "\t\t\t\t\tdisplay.config( text = \"Website blocked\", font = 'arial')\n",
    "\t\t\t\t\tdisplay.place(x=250,y=200)\n",
    "\n",
    "\t# child1 TextBox Creation \n",
    "\tenter_Website = tk.Text(frame2,\n",
    "\t\t\t font = 'arial',\n",
    "\t\t\t height='1', \n",
    "\t\t\t width = '40',\n",
    "\t\t\t highlightbackground = \"black\", \n",
    "             highlightthickness = 2)\n",
    "\tenter_Website.pack()\n",
    "\tenter_Website.place(x=100, y= 52)\n",
    "\n",
    "\t# child1 block button\n",
    "\tblock_button = tk.Button(frame2, \n",
    "\t\t\t  text = 'Block',\n",
    "\t\t\t  font = 'arial',\n",
    "\t\t\t  command = Blocker,\n",
    "\t\t\t  width = 8,\n",
    "\t\t\t  bg = 'royal blue1',\n",
    "\t\t\t  activebackground = 'grey')\n",
    "\tblock_button.pack()\n",
    "\tblock_button.place(x=280 , y = 130)\n",
    "\n",
    "\t# child1 result\n",
    "\tdisplay=tk.Label(frame2, text = '' , font = 'arial')\n",
    "\n",
    "# Master fevicon\n",
    "# ico = Image.open('python/test.png')\n",
    "# photo = ImageTk.PhotoImage(ico)\n",
    "# frame.wm_iconphoto(False, photo)\n",
    "\n",
    "# Function for getting Input\n",
    "# from textbox and printing it\n",
    "# at label widget\n",
    "\n",
    "# Master logo name\n",
    "logo = tk.Label(frame,\n",
    "\t\ttext = \"Phishing Website Detector\", \n",
    "\t\tfont=((\"Times New Roman\"), 35))\n",
    "logo.place(x=420,y=25)\n",
    "\n",
    "# Master about\n",
    "enterURL = tk.Label(frame,\n",
    "\t\t    text = \"About us:\\n Hello welcome to Phishing website detection App, To check the website is phishable paste website ULR in the below textbox and click check\",\n",
    "\t\t\twidth=110, \n",
    "\t\t\tfont=((\"Times New Roman\"),10))\n",
    "enterURL.pack()\n",
    "enterURL.place(x=277,y=80) \n",
    "\n",
    "# Master enter link label\n",
    "enterURL = tk.Label(frame,\n",
    "\t\t    text = \"Enter link: \", \n",
    "\t\t\tfont=((\"Times New Roman\"), 13))\n",
    "enterURL.place(x=87,y=150) \n",
    "\n",
    "# Master TextBox Creation\n",
    "inputtxt = tk.Text(frame,\n",
    "\t\t\t\theight = 1,\n",
    "\t\t\t\twidth = 120,\n",
    "\t        \tpady =5,\n",
    "\t\t\t\tbd =0,\n",
    "\t\t\t\thighlightbackground = \"black\", \n",
    "                highlightthickness = 2 \n",
    "\t\t\t\t)\n",
    "\n",
    "inputtxt.place(x=171,y=150)\n",
    "inputtxt.insert(tk.END,'Enter URL:')\n",
    "\n",
    "\n",
    "\n",
    "# Master result\n",
    "def printInput():\n",
    "\tarr = []\n",
    "\tinp = inputtxt.get(1.0, \"end-1c\")\n",
    "\tarr.append(inp)\n",
    "\tloaded_model = pickle.load(open('phishing.pkl', 'rb'))\n",
    "\tresult = loaded_model.predict(arr)\n",
    "\tif result == \"bad\":\n",
    "\t\tlbl.config(text = \"WARINIG\\nThe URL of website you have entered is phishing website,Don't enter your any personal detail on this website\", \n",
    "\t     fg = \"red\")\n",
    "\telif result == \"good\":\n",
    "\t\tlbl.config(text = \"RESULT\\nThe URL of website you have entered is safe website,You can enter your any personal detail on this website\", \n",
    "\t     fg = \"green\")\n",
    "\n",
    "\n",
    "# Master check button Creation\n",
    "\n",
    "printButton = tk.Button(frame,\n",
    "\t\t\t\t\t\ttext = \"Check\",\n",
    "\t\t\t\t\t\tcommand = printInput,\n",
    "\t\t\t\t\t\twidth=20, \n",
    "\t\t\t\t\t\theight=1,\n",
    "\t\t\t\t\t\tbg = \"black\", \n",
    "\t\t\t\t\t\tfg = \"white\",\n",
    "\t\t\t\t\t\tbd=0,\n",
    "\t\t\t\t\t\tfont=((\"Times New Roman\"), 15),\n",
    "\t\t\t\t\t\tactivebackground = 'grey')\n",
    "printButton.pack()\n",
    "printButton.place(x=535,y=193)\n",
    "\n",
    "# Master block button \n",
    "blockbutton = tk.Button(frame,\n",
    "\t\t\t\t\t\ttext = \"Block\",\n",
    "\t\t\t\t\t\tcommand = websiteBlocker,\n",
    "\t\t\t\t\t\twidth=15, \n",
    "\t\t\t\t\t\theight=2,\n",
    "\t\t\t\t\t\tbg = \"black\", \n",
    "\t\t\t\t\t\tfg = \"white\",\n",
    "\t\t\t\t\t\tbd=0,\n",
    "\t\t\t\t\t\tfont=((\"Times New Roman\"), 17),\n",
    "\t\t\t\t\t\tactivebackground = 'grey')\n",
    "blockbutton.pack()\n",
    "blockbutton.place(x=420,y=350)\n",
    "\n",
    "# Master report button\n",
    "def reportButton(reporturl):\n",
    "\t\twebbrowser.open_new_tab(reporturl)\n",
    "\n",
    "reportbutton = tk.Button(frame,\n",
    "\t\t\t\ttext = \"Report\",\n",
    "\t\t\t\tcommand = reportButton,\n",
    "\t\t\t\twidth=15, \n",
    "\t\t\t\theight=2,\n",
    "\t\t\t\tbg = \"black\", \n",
    "\t\t\t\tfg = \"white\",\n",
    "\t\t\t\tbd=0,\n",
    "\t\t\t\tfont=((\"Times New Roman\"), 17))\n",
    "reportbutton.pack()\n",
    "reportbutton.place(x=670,y=350)\n",
    "reportbutton.bind(\"<Button-1>\", lambda e:\n",
    "reportButton(reporturl=\"https://safebrowsing.google.com/safebrowsing/report_phish/?hl=en\"))\n",
    "\n",
    "# Master result\n",
    "lbl = tk.Label(frame, \n",
    "\t       \t\ttext = \"\",\n",
    "\t\t\t\tfont=((\"Times New Roman\"), 16))\n",
    "lbl.pack()\n",
    "lbl.place(x=195,y=250)\n",
    "\n",
    "# Master feedback button\n",
    "def callback(url):\n",
    "   webbrowser.open_new_tab(url)\n",
    "\n",
    "link = tk.Label(frame, \n",
    "\t\ttext=\"Feedback\",\n",
    "\t\tfont=(\"Times New Roman\", 15), \n",
    "\t\tfg=\"white\", \n",
    "\t\tcursor=\"hand2\",\n",
    "\t\tbg = \"blue\",\n",
    "\t\twidth=120)\n",
    "link.pack()\n",
    "link.bind(\"<Button-1>\", lambda e:\n",
    "callback(\"https://docs.google.com/forms/d/e/1FAIpQLSce6OK20lsoXa6JhvpVNaBbKczoQyJV2XOIJFfQbN1k8Iufjw/viewform?usp=sf_link\"))\n",
    "link.place(x=0,y=550)\n",
    "\n",
    "frame.mainloop()\n"
   ]
  },
  {
   "cell_type": "code",
   "execution_count": null,
   "metadata": {},
   "outputs": [],
   "source": []
  },
  {
   "cell_type": "code",
   "execution_count": null,
   "metadata": {},
   "outputs": [],
   "source": []
  }
 ],
 "metadata": {
  "accelerator": "GPU",
  "colab": {
   "collapsed_sections": [],
   "name": "phishing demo1 .ipynb",
   "provenance": []
  },
  "kernelspec": {
   "display_name": "Python 3 (ipykernel)",
   "language": "python",
   "name": "python3"
  },
  "language_info": {
   "codemirror_mode": {
    "name": "ipython",
    "version": 3
   },
   "file_extension": ".py",
   "mimetype": "text/x-python",
   "name": "python",
   "nbconvert_exporter": "python",
   "pygments_lexer": "ipython3",
   "version": "3.9.13"
  },
  "papermill": {
   "duration": 165.756178,
   "end_time": "2020-11-21T06:35:54.645788",
   "environment_variables": {},
   "exception": null,
   "input_path": "__notebook__.ipynb",
   "output_path": "__notebook__.ipynb",
   "parameters": {},
   "start_time": "2020-11-21T06:33:08.889610",
   "version": "2.1.0"
  },
  "vscode": {
   "interpreter": {
    "hash": "eabca979b0553fa6d87e9a00c352604d3b703d4afc9641643dd42376492b80f6"
   }
  }
 },
 "nbformat": 4,
 "nbformat_minor": 1
}
